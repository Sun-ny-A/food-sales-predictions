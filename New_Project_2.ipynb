{
  "nbformat": 4,
  "nbformat_minor": 0,
  "metadata": {
    "colab": {
      "name": "New Project 2",
      "provenance": [],
      "collapsed_sections": [],
      "mount_file_id": "1_QKRg3IgIQFekeTcnMaPYkxVibwyze09",
      "authorship_tag": "ABX9TyN3yMxbfJOSfGv0xQTaqpEb",
      "include_colab_link": true
    },
    "kernelspec": {
      "name": "python3",
      "display_name": "Python 3"
    },
    "language_info": {
      "name": "python"
    }
  },
  "cells": [
    {
      "cell_type": "markdown",
      "metadata": {
        "id": "view-in-github",
        "colab_type": "text"
      },
      "source": [
        "<a href=\"https://colab.research.google.com/github/Sun-ny-A/food-sales-predictions/blob/main/New_Project_2.ipynb\" target=\"_parent\"><img src=\"https://colab.research.google.com/assets/colab-badge.svg\" alt=\"Open In Colab\"/></a>"
      ]
    },
    {
      "cell_type": "markdown",
      "source": [
        "**Cleaning data**"
      ],
      "metadata": {
        "id": "43MdcgH_OwKG"
      }
    },
    {
      "cell_type": "code",
      "execution_count": 77,
      "metadata": {
        "id": "HwaFtOdAe0UI",
        "colab": {
          "base_uri": "https://localhost:8080/"
        },
        "outputId": "222b82b6-bcb8-4759-93d0-5933b7e5c337"
      },
      "outputs": [
        {
          "output_type": "stream",
          "name": "stdout",
          "text": [
            "Drive already mounted at /content/drive; to attempt to forcibly remount, call drive.mount(\"/content/drive\", force_remount=True).\n"
          ]
        }
      ],
      "source": [
        "#mount drive\n",
        "from google.colab import drive\n",
        "drive.mount('/content/drive')"
      ]
    },
    {
      "cell_type": "code",
      "source": [
        "#import\n",
        "import pandas as pd\n",
        "import numpy as np\n",
        "import matplotlib.pyplot as plt\n",
        "import seaborn as sns\n",
        "from sklearn import set_config\n",
        "set_config(display='diagram')\n",
        "corr = df.corr()"
      ],
      "metadata": {
        "id": "0cIOqW8vO3XJ"
      },
      "execution_count": 112,
      "outputs": []
    },
    {
      "cell_type": "code",
      "source": [
        "#upload data\n",
        "df = pd.read_csv('/content/hospitals.csv')\n",
        "df.head(10)"
      ],
      "metadata": {
        "colab": {
          "base_uri": "https://localhost:8080/",
          "height": 751
        },
        "id": "q2WH5OjLPCvE",
        "outputId": "01d7906f-90f5-4d5f-cb09-86a5fbcde484"
      },
      "execution_count": 79,
      "outputs": [
        {
          "output_type": "execute_result",
          "data": {
            "text/plain": [
              "                      Facility.Name Facility.City Facility.State  \\\n",
              "0  Southeast Alabama Medical Center        Dothan             AL   \n",
              "1     Marshall Medical Center South          Boaz             AL   \n",
              "2    Eliza Coffee Memorial Hospital      Florence             AL   \n",
              "3          Mizell Memorial Hospital           Opp             AL   \n",
              "4       Crenshaw Community Hospital       Luverne             AL   \n",
              "5                 St Vincent's East    Birmingham             AL   \n",
              "6    Dekalb Regional Medical Center    Fort Payne             AL   \n",
              "7     Shelby Baptist Medical Center     Alabaster             AL   \n",
              "8             Callahan Eye Hospital    Birmingham             AL   \n",
              "9    Helen Keller Memorial Hospital     Sheffield             AL   \n",
              "\n",
              "  Facility.Type  Rating.Overall Rating.Mortality Rating.Safety  \\\n",
              "0    Government               2            Below         Above   \n",
              "1    Government               1            Below         Below   \n",
              "2    Government               3            Below         Above   \n",
              "3       Private               1             Same          Same   \n",
              "4   Proprietary               4             Same          None   \n",
              "5       Private               2             Same         Below   \n",
              "6   Proprietary               2            Below         Above   \n",
              "7       Private               2             Same         Below   \n",
              "8       Private              -1             None          None   \n",
              "9    Government               3             Same         Above   \n",
              "\n",
              "  Rating.Readmission Rating.Experience Rating.Effectiveness  ...  \\\n",
              "0              Below             Below                 Same  ...   \n",
              "1              Below              Same                Above  ...   \n",
              "2              Above             Below                 Same  ...   \n",
              "3              Below             Below                Below  ...   \n",
              "4              Above              None                 Same  ...   \n",
              "5              Below             Below                Below  ...   \n",
              "6              Below             Below                 Same  ...   \n",
              "7              Above             Below                 Same  ...   \n",
              "8               None              None                 Same  ...   \n",
              "9              Below              Same                 Same  ...   \n",
              "\n",
              "  Procedure.Heart Attack.Value Procedure.Heart Failure.Cost  \\\n",
              "0                      Average                        17041   \n",
              "1                      Average                        15819   \n",
              "2                      Average                        16334   \n",
              "3                      Unknown                        14541   \n",
              "4                      Unknown                        13767   \n",
              "5                      Average                        16132   \n",
              "6                      Average                        15761   \n",
              "7                      Average                        17937   \n",
              "8                      Unknown                            0   \n",
              "9                      Average                        17311   \n",
              "\n",
              "   Procedure.Heart Failure.Quality Procedure.Heart Failure.Value  \\\n",
              "0                          Average                       Average   \n",
              "1                            Worse                       Average   \n",
              "2                          Average                       Average   \n",
              "3                          Average                         Lower   \n",
              "4                          Average                         Lower   \n",
              "5                          Average                       Average   \n",
              "6                          Average                       Average   \n",
              "7                          Average                        Higher   \n",
              "8                          Unknown                       Unknown   \n",
              "9                          Average                       Average   \n",
              "\n",
              "  Procedure.Pneumonia.Cost  Procedure.Pneumonia.Quality  \\\n",
              "0                    18281                      Average   \n",
              "1                    15614                        Worse   \n",
              "2                    17371                      Average   \n",
              "3                    15226                        Worse   \n",
              "4                    14341                      Average   \n",
              "5                    17848                      Average   \n",
              "6                    17896                        Worse   \n",
              "7                    18858                      Average   \n",
              "8                        0                      Unknown   \n",
              "9                    17516                      Average   \n",
              "\n",
              "  Procedure.Pneumonia.Value Procedure.Hip Knee.Cost  \\\n",
              "0                   Average                   25812   \n",
              "1                     Lower                   22747   \n",
              "2                   Average                   24491   \n",
              "3                     Lower                   23472   \n",
              "4                     Lower                       0   \n",
              "5                   Average                   23792   \n",
              "6                   Average                       0   \n",
              "7                    Higher                   22367   \n",
              "8                   Unknown                       0   \n",
              "9                   Average                   23130   \n",
              "\n",
              "   Procedure.Hip Knee.Quality Procedure.Hip Knee.Value  \n",
              "0                     Average                   Higher  \n",
              "1                     Average                  Average  \n",
              "2                     Average                   Higher  \n",
              "3                     Average                  Average  \n",
              "4                     Unknown                  Unknown  \n",
              "5                     Average                   Higher  \n",
              "6                     Unknown                  Unknown  \n",
              "7                     Average                  Average  \n",
              "8                     Unknown                  Unknown  \n",
              "9                     Average                   Higher  \n",
              "\n",
              "[10 rows x 24 columns]"
            ],
            "text/html": [
              "\n",
              "  <div id=\"df-610b046b-25b7-44e7-8c02-d09529354040\">\n",
              "    <div class=\"colab-df-container\">\n",
              "      <div>\n",
              "<style scoped>\n",
              "    .dataframe tbody tr th:only-of-type {\n",
              "        vertical-align: middle;\n",
              "    }\n",
              "\n",
              "    .dataframe tbody tr th {\n",
              "        vertical-align: top;\n",
              "    }\n",
              "\n",
              "    .dataframe thead th {\n",
              "        text-align: right;\n",
              "    }\n",
              "</style>\n",
              "<table border=\"1\" class=\"dataframe\">\n",
              "  <thead>\n",
              "    <tr style=\"text-align: right;\">\n",
              "      <th></th>\n",
              "      <th>Facility.Name</th>\n",
              "      <th>Facility.City</th>\n",
              "      <th>Facility.State</th>\n",
              "      <th>Facility.Type</th>\n",
              "      <th>Rating.Overall</th>\n",
              "      <th>Rating.Mortality</th>\n",
              "      <th>Rating.Safety</th>\n",
              "      <th>Rating.Readmission</th>\n",
              "      <th>Rating.Experience</th>\n",
              "      <th>Rating.Effectiveness</th>\n",
              "      <th>...</th>\n",
              "      <th>Procedure.Heart Attack.Value</th>\n",
              "      <th>Procedure.Heart Failure.Cost</th>\n",
              "      <th>Procedure.Heart Failure.Quality</th>\n",
              "      <th>Procedure.Heart Failure.Value</th>\n",
              "      <th>Procedure.Pneumonia.Cost</th>\n",
              "      <th>Procedure.Pneumonia.Quality</th>\n",
              "      <th>Procedure.Pneumonia.Value</th>\n",
              "      <th>Procedure.Hip Knee.Cost</th>\n",
              "      <th>Procedure.Hip Knee.Quality</th>\n",
              "      <th>Procedure.Hip Knee.Value</th>\n",
              "    </tr>\n",
              "  </thead>\n",
              "  <tbody>\n",
              "    <tr>\n",
              "      <th>0</th>\n",
              "      <td>Southeast Alabama Medical Center</td>\n",
              "      <td>Dothan</td>\n",
              "      <td>AL</td>\n",
              "      <td>Government</td>\n",
              "      <td>2</td>\n",
              "      <td>Below</td>\n",
              "      <td>Above</td>\n",
              "      <td>Below</td>\n",
              "      <td>Below</td>\n",
              "      <td>Same</td>\n",
              "      <td>...</td>\n",
              "      <td>Average</td>\n",
              "      <td>17041</td>\n",
              "      <td>Average</td>\n",
              "      <td>Average</td>\n",
              "      <td>18281</td>\n",
              "      <td>Average</td>\n",
              "      <td>Average</td>\n",
              "      <td>25812</td>\n",
              "      <td>Average</td>\n",
              "      <td>Higher</td>\n",
              "    </tr>\n",
              "    <tr>\n",
              "      <th>1</th>\n",
              "      <td>Marshall Medical Center South</td>\n",
              "      <td>Boaz</td>\n",
              "      <td>AL</td>\n",
              "      <td>Government</td>\n",
              "      <td>1</td>\n",
              "      <td>Below</td>\n",
              "      <td>Below</td>\n",
              "      <td>Below</td>\n",
              "      <td>Same</td>\n",
              "      <td>Above</td>\n",
              "      <td>...</td>\n",
              "      <td>Average</td>\n",
              "      <td>15819</td>\n",
              "      <td>Worse</td>\n",
              "      <td>Average</td>\n",
              "      <td>15614</td>\n",
              "      <td>Worse</td>\n",
              "      <td>Lower</td>\n",
              "      <td>22747</td>\n",
              "      <td>Average</td>\n",
              "      <td>Average</td>\n",
              "    </tr>\n",
              "    <tr>\n",
              "      <th>2</th>\n",
              "      <td>Eliza Coffee Memorial Hospital</td>\n",
              "      <td>Florence</td>\n",
              "      <td>AL</td>\n",
              "      <td>Government</td>\n",
              "      <td>3</td>\n",
              "      <td>Below</td>\n",
              "      <td>Above</td>\n",
              "      <td>Above</td>\n",
              "      <td>Below</td>\n",
              "      <td>Same</td>\n",
              "      <td>...</td>\n",
              "      <td>Average</td>\n",
              "      <td>16334</td>\n",
              "      <td>Average</td>\n",
              "      <td>Average</td>\n",
              "      <td>17371</td>\n",
              "      <td>Average</td>\n",
              "      <td>Average</td>\n",
              "      <td>24491</td>\n",
              "      <td>Average</td>\n",
              "      <td>Higher</td>\n",
              "    </tr>\n",
              "    <tr>\n",
              "      <th>3</th>\n",
              "      <td>Mizell Memorial Hospital</td>\n",
              "      <td>Opp</td>\n",
              "      <td>AL</td>\n",
              "      <td>Private</td>\n",
              "      <td>1</td>\n",
              "      <td>Same</td>\n",
              "      <td>Same</td>\n",
              "      <td>Below</td>\n",
              "      <td>Below</td>\n",
              "      <td>Below</td>\n",
              "      <td>...</td>\n",
              "      <td>Unknown</td>\n",
              "      <td>14541</td>\n",
              "      <td>Average</td>\n",
              "      <td>Lower</td>\n",
              "      <td>15226</td>\n",
              "      <td>Worse</td>\n",
              "      <td>Lower</td>\n",
              "      <td>23472</td>\n",
              "      <td>Average</td>\n",
              "      <td>Average</td>\n",
              "    </tr>\n",
              "    <tr>\n",
              "      <th>4</th>\n",
              "      <td>Crenshaw Community Hospital</td>\n",
              "      <td>Luverne</td>\n",
              "      <td>AL</td>\n",
              "      <td>Proprietary</td>\n",
              "      <td>4</td>\n",
              "      <td>Same</td>\n",
              "      <td>None</td>\n",
              "      <td>Above</td>\n",
              "      <td>None</td>\n",
              "      <td>Same</td>\n",
              "      <td>...</td>\n",
              "      <td>Unknown</td>\n",
              "      <td>13767</td>\n",
              "      <td>Average</td>\n",
              "      <td>Lower</td>\n",
              "      <td>14341</td>\n",
              "      <td>Average</td>\n",
              "      <td>Lower</td>\n",
              "      <td>0</td>\n",
              "      <td>Unknown</td>\n",
              "      <td>Unknown</td>\n",
              "    </tr>\n",
              "    <tr>\n",
              "      <th>5</th>\n",
              "      <td>St Vincent's East</td>\n",
              "      <td>Birmingham</td>\n",
              "      <td>AL</td>\n",
              "      <td>Private</td>\n",
              "      <td>2</td>\n",
              "      <td>Same</td>\n",
              "      <td>Below</td>\n",
              "      <td>Below</td>\n",
              "      <td>Below</td>\n",
              "      <td>Below</td>\n",
              "      <td>...</td>\n",
              "      <td>Average</td>\n",
              "      <td>16132</td>\n",
              "      <td>Average</td>\n",
              "      <td>Average</td>\n",
              "      <td>17848</td>\n",
              "      <td>Average</td>\n",
              "      <td>Average</td>\n",
              "      <td>23792</td>\n",
              "      <td>Average</td>\n",
              "      <td>Higher</td>\n",
              "    </tr>\n",
              "    <tr>\n",
              "      <th>6</th>\n",
              "      <td>Dekalb Regional Medical Center</td>\n",
              "      <td>Fort Payne</td>\n",
              "      <td>AL</td>\n",
              "      <td>Proprietary</td>\n",
              "      <td>2</td>\n",
              "      <td>Below</td>\n",
              "      <td>Above</td>\n",
              "      <td>Below</td>\n",
              "      <td>Below</td>\n",
              "      <td>Same</td>\n",
              "      <td>...</td>\n",
              "      <td>Average</td>\n",
              "      <td>15761</td>\n",
              "      <td>Average</td>\n",
              "      <td>Average</td>\n",
              "      <td>17896</td>\n",
              "      <td>Worse</td>\n",
              "      <td>Average</td>\n",
              "      <td>0</td>\n",
              "      <td>Unknown</td>\n",
              "      <td>Unknown</td>\n",
              "    </tr>\n",
              "    <tr>\n",
              "      <th>7</th>\n",
              "      <td>Shelby Baptist Medical Center</td>\n",
              "      <td>Alabaster</td>\n",
              "      <td>AL</td>\n",
              "      <td>Private</td>\n",
              "      <td>2</td>\n",
              "      <td>Same</td>\n",
              "      <td>Below</td>\n",
              "      <td>Above</td>\n",
              "      <td>Below</td>\n",
              "      <td>Same</td>\n",
              "      <td>...</td>\n",
              "      <td>Average</td>\n",
              "      <td>17937</td>\n",
              "      <td>Average</td>\n",
              "      <td>Higher</td>\n",
              "      <td>18858</td>\n",
              "      <td>Average</td>\n",
              "      <td>Higher</td>\n",
              "      <td>22367</td>\n",
              "      <td>Average</td>\n",
              "      <td>Average</td>\n",
              "    </tr>\n",
              "    <tr>\n",
              "      <th>8</th>\n",
              "      <td>Callahan Eye Hospital</td>\n",
              "      <td>Birmingham</td>\n",
              "      <td>AL</td>\n",
              "      <td>Private</td>\n",
              "      <td>-1</td>\n",
              "      <td>None</td>\n",
              "      <td>None</td>\n",
              "      <td>None</td>\n",
              "      <td>None</td>\n",
              "      <td>Same</td>\n",
              "      <td>...</td>\n",
              "      <td>Unknown</td>\n",
              "      <td>0</td>\n",
              "      <td>Unknown</td>\n",
              "      <td>Unknown</td>\n",
              "      <td>0</td>\n",
              "      <td>Unknown</td>\n",
              "      <td>Unknown</td>\n",
              "      <td>0</td>\n",
              "      <td>Unknown</td>\n",
              "      <td>Unknown</td>\n",
              "    </tr>\n",
              "    <tr>\n",
              "      <th>9</th>\n",
              "      <td>Helen Keller Memorial Hospital</td>\n",
              "      <td>Sheffield</td>\n",
              "      <td>AL</td>\n",
              "      <td>Government</td>\n",
              "      <td>3</td>\n",
              "      <td>Same</td>\n",
              "      <td>Above</td>\n",
              "      <td>Below</td>\n",
              "      <td>Same</td>\n",
              "      <td>Same</td>\n",
              "      <td>...</td>\n",
              "      <td>Average</td>\n",
              "      <td>17311</td>\n",
              "      <td>Average</td>\n",
              "      <td>Average</td>\n",
              "      <td>17516</td>\n",
              "      <td>Average</td>\n",
              "      <td>Average</td>\n",
              "      <td>23130</td>\n",
              "      <td>Average</td>\n",
              "      <td>Higher</td>\n",
              "    </tr>\n",
              "  </tbody>\n",
              "</table>\n",
              "<p>10 rows × 24 columns</p>\n",
              "</div>\n",
              "      <button class=\"colab-df-convert\" onclick=\"convertToInteractive('df-610b046b-25b7-44e7-8c02-d09529354040')\"\n",
              "              title=\"Convert this dataframe to an interactive table.\"\n",
              "              style=\"display:none;\">\n",
              "        \n",
              "  <svg xmlns=\"http://www.w3.org/2000/svg\" height=\"24px\"viewBox=\"0 0 24 24\"\n",
              "       width=\"24px\">\n",
              "    <path d=\"M0 0h24v24H0V0z\" fill=\"none\"/>\n",
              "    <path d=\"M18.56 5.44l.94 2.06.94-2.06 2.06-.94-2.06-.94-.94-2.06-.94 2.06-2.06.94zm-11 1L8.5 8.5l.94-2.06 2.06-.94-2.06-.94L8.5 2.5l-.94 2.06-2.06.94zm10 10l.94 2.06.94-2.06 2.06-.94-2.06-.94-.94-2.06-.94 2.06-2.06.94z\"/><path d=\"M17.41 7.96l-1.37-1.37c-.4-.4-.92-.59-1.43-.59-.52 0-1.04.2-1.43.59L10.3 9.45l-7.72 7.72c-.78.78-.78 2.05 0 2.83L4 21.41c.39.39.9.59 1.41.59.51 0 1.02-.2 1.41-.59l7.78-7.78 2.81-2.81c.8-.78.8-2.07 0-2.86zM5.41 20L4 18.59l7.72-7.72 1.47 1.35L5.41 20z\"/>\n",
              "  </svg>\n",
              "      </button>\n",
              "      \n",
              "  <style>\n",
              "    .colab-df-container {\n",
              "      display:flex;\n",
              "      flex-wrap:wrap;\n",
              "      gap: 12px;\n",
              "    }\n",
              "\n",
              "    .colab-df-convert {\n",
              "      background-color: #E8F0FE;\n",
              "      border: none;\n",
              "      border-radius: 50%;\n",
              "      cursor: pointer;\n",
              "      display: none;\n",
              "      fill: #1967D2;\n",
              "      height: 32px;\n",
              "      padding: 0 0 0 0;\n",
              "      width: 32px;\n",
              "    }\n",
              "\n",
              "    .colab-df-convert:hover {\n",
              "      background-color: #E2EBFA;\n",
              "      box-shadow: 0px 1px 2px rgba(60, 64, 67, 0.3), 0px 1px 3px 1px rgba(60, 64, 67, 0.15);\n",
              "      fill: #174EA6;\n",
              "    }\n",
              "\n",
              "    [theme=dark] .colab-df-convert {\n",
              "      background-color: #3B4455;\n",
              "      fill: #D2E3FC;\n",
              "    }\n",
              "\n",
              "    [theme=dark] .colab-df-convert:hover {\n",
              "      background-color: #434B5C;\n",
              "      box-shadow: 0px 1px 3px 1px rgba(0, 0, 0, 0.15);\n",
              "      filter: drop-shadow(0px 1px 2px rgba(0, 0, 0, 0.3));\n",
              "      fill: #FFFFFF;\n",
              "    }\n",
              "  </style>\n",
              "\n",
              "      <script>\n",
              "        const buttonEl =\n",
              "          document.querySelector('#df-610b046b-25b7-44e7-8c02-d09529354040 button.colab-df-convert');\n",
              "        buttonEl.style.display =\n",
              "          google.colab.kernel.accessAllowed ? 'block' : 'none';\n",
              "\n",
              "        async function convertToInteractive(key) {\n",
              "          const element = document.querySelector('#df-610b046b-25b7-44e7-8c02-d09529354040');\n",
              "          const dataTable =\n",
              "            await google.colab.kernel.invokeFunction('convertToInteractive',\n",
              "                                                     [key], {});\n",
              "          if (!dataTable) return;\n",
              "\n",
              "          const docLinkHtml = 'Like what you see? Visit the ' +\n",
              "            '<a target=\"_blank\" href=https://colab.research.google.com/notebooks/data_table.ipynb>data table notebook</a>'\n",
              "            + ' to learn more about interactive tables.';\n",
              "          element.innerHTML = '';\n",
              "          dataTable['output_type'] = 'display_data';\n",
              "          await google.colab.output.renderOutput(dataTable, element);\n",
              "          const docLink = document.createElement('div');\n",
              "          docLink.innerHTML = docLinkHtml;\n",
              "          element.appendChild(docLink);\n",
              "        }\n",
              "      </script>\n",
              "    </div>\n",
              "  </div>\n",
              "  "
            ]
          },
          "metadata": {},
          "execution_count": 79
        }
      ]
    },
    {
      "cell_type": "code",
      "source": [
        "#check for duplicates\n",
        "df.duplicated().sum()\n",
        "#no duplicate data"
      ],
      "metadata": {
        "colab": {
          "base_uri": "https://localhost:8080/"
        },
        "id": "OdeZvpAzPv0i",
        "outputId": "40ee5a31-9f2d-45ef-a6a9-f089914a22fc"
      },
      "execution_count": 80,
      "outputs": [
        {
          "output_type": "execute_result",
          "data": {
            "text/plain": [
              "0"
            ]
          },
          "metadata": {},
          "execution_count": 80
        }
      ]
    },
    {
      "cell_type": "code",
      "source": [
        "#no missing values\n",
        "df.info()\n",
        "#rating, quality, and value columns are ordinal"
      ],
      "metadata": {
        "colab": {
          "base_uri": "https://localhost:8080/"
        },
        "id": "X_ua9wtFP7Xk",
        "outputId": "e27938ec-8f6f-463b-e566-e37e5f7fc25d"
      },
      "execution_count": 81,
      "outputs": [
        {
          "output_type": "stream",
          "name": "stdout",
          "text": [
            "<class 'pandas.core.frame.DataFrame'>\n",
            "RangeIndex: 4772 entries, 0 to 4771\n",
            "Data columns (total 24 columns):\n",
            " #   Column                           Non-Null Count  Dtype \n",
            "---  ------                           --------------  ----- \n",
            " 0   Facility.Name                    4772 non-null   object\n",
            " 1   Facility.City                    4772 non-null   object\n",
            " 2   Facility.State                   4772 non-null   object\n",
            " 3   Facility.Type                    4772 non-null   object\n",
            " 4   Rating.Overall                   4772 non-null   int64 \n",
            " 5   Rating.Mortality                 4772 non-null   object\n",
            " 6   Rating.Safety                    4772 non-null   object\n",
            " 7   Rating.Readmission               4772 non-null   object\n",
            " 8   Rating.Experience                4772 non-null   object\n",
            " 9   Rating.Effectiveness             4772 non-null   object\n",
            " 10  Rating.Timeliness                4772 non-null   object\n",
            " 11  Rating.Imaging                   4772 non-null   object\n",
            " 12  Procedure.Heart Attack.Cost      4772 non-null   int64 \n",
            " 13  Procedure.Heart Attack.Quality   4772 non-null   object\n",
            " 14  Procedure.Heart Attack.Value     4772 non-null   object\n",
            " 15  Procedure.Heart Failure.Cost     4772 non-null   int64 \n",
            " 16  Procedure.Heart Failure.Quality  4772 non-null   object\n",
            " 17  Procedure.Heart Failure.Value    4772 non-null   object\n",
            " 18  Procedure.Pneumonia.Cost         4772 non-null   int64 \n",
            " 19  Procedure.Pneumonia.Quality      4772 non-null   object\n",
            " 20  Procedure.Pneumonia.Value        4772 non-null   object\n",
            " 21  Procedure.Hip Knee.Cost          4772 non-null   int64 \n",
            " 22  Procedure.Hip Knee.Quality       4772 non-null   object\n",
            " 23  Procedure.Hip Knee.Value         4772 non-null   object\n",
            "dtypes: int64(5), object(19)\n",
            "memory usage: 894.9+ KB\n"
          ]
        }
      ]
    },
    {
      "cell_type": "code",
      "source": [
        "df.nunique()\n",
        "#all ordinal columns for rating, quality, and vaue have the four subtypes Above, Same, Below, or None."
      ],
      "metadata": {
        "colab": {
          "base_uri": "https://localhost:8080/"
        },
        "id": "IseqZlqQ0iSw",
        "outputId": "27aef77f-07ae-4a12-91fa-1166ff2152c7"
      },
      "execution_count": 82,
      "outputs": [
        {
          "output_type": "execute_result",
          "data": {
            "text/plain": [
              "Facility.Name                      4589\n",
              "Facility.City                      2929\n",
              "Facility.State                       56\n",
              "Facility.Type                         5\n",
              "Rating.Overall                        6\n",
              "Rating.Mortality                      4\n",
              "Rating.Safety                         4\n",
              "Rating.Readmission                    4\n",
              "Rating.Experience                     4\n",
              "Rating.Effectiveness                  4\n",
              "Rating.Timeliness                     4\n",
              "Rating.Imaging                        4\n",
              "Procedure.Heart Attack.Cost        1845\n",
              "Procedure.Heart Attack.Quality        4\n",
              "Procedure.Heart Attack.Value          4\n",
              "Procedure.Heart Failure.Cost       2469\n",
              "Procedure.Heart Failure.Quality       4\n",
              "Procedure.Heart Failure.Value         4\n",
              "Procedure.Pneumonia.Cost           2992\n",
              "Procedure.Pneumonia.Quality           4\n",
              "Procedure.Pneumonia.Value             4\n",
              "Procedure.Hip Knee.Cost            2335\n",
              "Procedure.Hip Knee.Quality            4\n",
              "Procedure.Hip Knee.Value              4\n",
              "dtype: int64"
            ]
          },
          "metadata": {},
          "execution_count": 82
        }
      ]
    },
    {
      "cell_type": "code",
      "source": [
        "df['Facility.State'].value_counts()\n",
        "#double check VI, GU, AS, MP"
      ],
      "metadata": {
        "colab": {
          "base_uri": "https://localhost:8080/"
        },
        "id": "60od0fBz32I9",
        "outputId": "9b9e5032-7263-4364-a70d-632122963389"
      },
      "execution_count": 83,
      "outputs": [
        {
          "output_type": "execute_result",
          "data": {
            "text/plain": [
              "TX    403\n",
              "CA    340\n",
              "FL    184\n",
              "IL    180\n",
              "PA    171\n",
              "NY    168\n",
              "OH    168\n",
              "KS    136\n",
              "GA    132\n",
              "MI    131\n",
              "MN    130\n",
              "OK    123\n",
              "WI    123\n",
              "IN    120\n",
              "IA    116\n",
              "LA    116\n",
              "MO    111\n",
              "TN    105\n",
              "NC    105\n",
              "MS     95\n",
              "WA     91\n",
              "KY     91\n",
              "AL     90\n",
              "NE     89\n",
              "VA     84\n",
              "CO     82\n",
              "AR     77\n",
              "AZ     77\n",
              "NJ     66\n",
              "MA     62\n",
              "MT     62\n",
              "OR     60\n",
              "SC     60\n",
              "SD     58\n",
              "PR     52\n",
              "WV     49\n",
              "MD     49\n",
              "UT     46\n",
              "ND     44\n",
              "ID     42\n",
              "NM     41\n",
              "NV     35\n",
              "ME     33\n",
              "CT     31\n",
              "WY     28\n",
              "NH     26\n",
              "HI     23\n",
              "AK     22\n",
              "VT     14\n",
              "RI     10\n",
              "DC      8\n",
              "DE      7\n",
              "VI      2\n",
              "GU      2\n",
              "AS      1\n",
              "MP      1\n",
              "Name: Facility.State, dtype: int64"
            ]
          },
          "metadata": {},
          "execution_count": 83
        }
      ]
    },
    {
      "cell_type": "code",
      "source": [
        "#locate VI\n",
        "df.loc[df['Facility.State'] == 'VI']\n",
        "#looks like US territories are included in the state list, VI is Virgin Islands"
      ],
      "metadata": {
        "colab": {
          "base_uri": "https://localhost:8080/",
          "height": 292
        },
        "id": "zptbZ03N5HbO",
        "outputId": "a3857216-d758-42db-daf6-33b867d1976c"
      },
      "execution_count": 84,
      "outputs": [
        {
          "output_type": "execute_result",
          "data": {
            "text/plain": [
              "                               Facility.Name Facility.City Facility.State  \\\n",
              "4326       Roy Lester Schneider Hospital,the     St Thomas             VI   \n",
              "4327  Gov Juan F Luis Hospital & Medical Ctr      St Croix             VI   \n",
              "\n",
              "     Facility.Type  Rating.Overall Rating.Mortality Rating.Safety  \\\n",
              "4326    Government               3             Same          Same   \n",
              "4327    Government               2             Same          Same   \n",
              "\n",
              "     Rating.Readmission Rating.Experience Rating.Effectiveness  ...  \\\n",
              "4326              Above              None                 Same  ...   \n",
              "4327               Same              None                 None  ...   \n",
              "\n",
              "     Procedure.Heart Attack.Value Procedure.Heart Failure.Cost  \\\n",
              "4326                        Lower                        11716   \n",
              "4327                        Lower                        13420   \n",
              "\n",
              "      Procedure.Heart Failure.Quality Procedure.Heart Failure.Value  \\\n",
              "4326                          Average                         Lower   \n",
              "4327                          Average                         Lower   \n",
              "\n",
              "     Procedure.Pneumonia.Cost  Procedure.Pneumonia.Quality  \\\n",
              "4326                    13192                      Average   \n",
              "4327                    13038                      Average   \n",
              "\n",
              "     Procedure.Pneumonia.Value Procedure.Hip Knee.Cost  \\\n",
              "4326                     Lower                   19770   \n",
              "4327                     Lower                   17725   \n",
              "\n",
              "      Procedure.Hip Knee.Quality Procedure.Hip Knee.Value  \n",
              "4326                     Average                    Lower  \n",
              "4327                     Average                    Lower  \n",
              "\n",
              "[2 rows x 24 columns]"
            ],
            "text/html": [
              "\n",
              "  <div id=\"df-63715c8e-306a-48c0-afe8-8373c0de661f\">\n",
              "    <div class=\"colab-df-container\">\n",
              "      <div>\n",
              "<style scoped>\n",
              "    .dataframe tbody tr th:only-of-type {\n",
              "        vertical-align: middle;\n",
              "    }\n",
              "\n",
              "    .dataframe tbody tr th {\n",
              "        vertical-align: top;\n",
              "    }\n",
              "\n",
              "    .dataframe thead th {\n",
              "        text-align: right;\n",
              "    }\n",
              "</style>\n",
              "<table border=\"1\" class=\"dataframe\">\n",
              "  <thead>\n",
              "    <tr style=\"text-align: right;\">\n",
              "      <th></th>\n",
              "      <th>Facility.Name</th>\n",
              "      <th>Facility.City</th>\n",
              "      <th>Facility.State</th>\n",
              "      <th>Facility.Type</th>\n",
              "      <th>Rating.Overall</th>\n",
              "      <th>Rating.Mortality</th>\n",
              "      <th>Rating.Safety</th>\n",
              "      <th>Rating.Readmission</th>\n",
              "      <th>Rating.Experience</th>\n",
              "      <th>Rating.Effectiveness</th>\n",
              "      <th>...</th>\n",
              "      <th>Procedure.Heart Attack.Value</th>\n",
              "      <th>Procedure.Heart Failure.Cost</th>\n",
              "      <th>Procedure.Heart Failure.Quality</th>\n",
              "      <th>Procedure.Heart Failure.Value</th>\n",
              "      <th>Procedure.Pneumonia.Cost</th>\n",
              "      <th>Procedure.Pneumonia.Quality</th>\n",
              "      <th>Procedure.Pneumonia.Value</th>\n",
              "      <th>Procedure.Hip Knee.Cost</th>\n",
              "      <th>Procedure.Hip Knee.Quality</th>\n",
              "      <th>Procedure.Hip Knee.Value</th>\n",
              "    </tr>\n",
              "  </thead>\n",
              "  <tbody>\n",
              "    <tr>\n",
              "      <th>4326</th>\n",
              "      <td>Roy Lester Schneider Hospital,the</td>\n",
              "      <td>St Thomas</td>\n",
              "      <td>VI</td>\n",
              "      <td>Government</td>\n",
              "      <td>3</td>\n",
              "      <td>Same</td>\n",
              "      <td>Same</td>\n",
              "      <td>Above</td>\n",
              "      <td>None</td>\n",
              "      <td>Same</td>\n",
              "      <td>...</td>\n",
              "      <td>Lower</td>\n",
              "      <td>11716</td>\n",
              "      <td>Average</td>\n",
              "      <td>Lower</td>\n",
              "      <td>13192</td>\n",
              "      <td>Average</td>\n",
              "      <td>Lower</td>\n",
              "      <td>19770</td>\n",
              "      <td>Average</td>\n",
              "      <td>Lower</td>\n",
              "    </tr>\n",
              "    <tr>\n",
              "      <th>4327</th>\n",
              "      <td>Gov Juan F Luis Hospital &amp; Medical Ctr</td>\n",
              "      <td>St Croix</td>\n",
              "      <td>VI</td>\n",
              "      <td>Government</td>\n",
              "      <td>2</td>\n",
              "      <td>Same</td>\n",
              "      <td>Same</td>\n",
              "      <td>Same</td>\n",
              "      <td>None</td>\n",
              "      <td>None</td>\n",
              "      <td>...</td>\n",
              "      <td>Lower</td>\n",
              "      <td>13420</td>\n",
              "      <td>Average</td>\n",
              "      <td>Lower</td>\n",
              "      <td>13038</td>\n",
              "      <td>Average</td>\n",
              "      <td>Lower</td>\n",
              "      <td>17725</td>\n",
              "      <td>Average</td>\n",
              "      <td>Lower</td>\n",
              "    </tr>\n",
              "  </tbody>\n",
              "</table>\n",
              "<p>2 rows × 24 columns</p>\n",
              "</div>\n",
              "      <button class=\"colab-df-convert\" onclick=\"convertToInteractive('df-63715c8e-306a-48c0-afe8-8373c0de661f')\"\n",
              "              title=\"Convert this dataframe to an interactive table.\"\n",
              "              style=\"display:none;\">\n",
              "        \n",
              "  <svg xmlns=\"http://www.w3.org/2000/svg\" height=\"24px\"viewBox=\"0 0 24 24\"\n",
              "       width=\"24px\">\n",
              "    <path d=\"M0 0h24v24H0V0z\" fill=\"none\"/>\n",
              "    <path d=\"M18.56 5.44l.94 2.06.94-2.06 2.06-.94-2.06-.94-.94-2.06-.94 2.06-2.06.94zm-11 1L8.5 8.5l.94-2.06 2.06-.94-2.06-.94L8.5 2.5l-.94 2.06-2.06.94zm10 10l.94 2.06.94-2.06 2.06-.94-2.06-.94-.94-2.06-.94 2.06-2.06.94z\"/><path d=\"M17.41 7.96l-1.37-1.37c-.4-.4-.92-.59-1.43-.59-.52 0-1.04.2-1.43.59L10.3 9.45l-7.72 7.72c-.78.78-.78 2.05 0 2.83L4 21.41c.39.39.9.59 1.41.59.51 0 1.02-.2 1.41-.59l7.78-7.78 2.81-2.81c.8-.78.8-2.07 0-2.86zM5.41 20L4 18.59l7.72-7.72 1.47 1.35L5.41 20z\"/>\n",
              "  </svg>\n",
              "      </button>\n",
              "      \n",
              "  <style>\n",
              "    .colab-df-container {\n",
              "      display:flex;\n",
              "      flex-wrap:wrap;\n",
              "      gap: 12px;\n",
              "    }\n",
              "\n",
              "    .colab-df-convert {\n",
              "      background-color: #E8F0FE;\n",
              "      border: none;\n",
              "      border-radius: 50%;\n",
              "      cursor: pointer;\n",
              "      display: none;\n",
              "      fill: #1967D2;\n",
              "      height: 32px;\n",
              "      padding: 0 0 0 0;\n",
              "      width: 32px;\n",
              "    }\n",
              "\n",
              "    .colab-df-convert:hover {\n",
              "      background-color: #E2EBFA;\n",
              "      box-shadow: 0px 1px 2px rgba(60, 64, 67, 0.3), 0px 1px 3px 1px rgba(60, 64, 67, 0.15);\n",
              "      fill: #174EA6;\n",
              "    }\n",
              "\n",
              "    [theme=dark] .colab-df-convert {\n",
              "      background-color: #3B4455;\n",
              "      fill: #D2E3FC;\n",
              "    }\n",
              "\n",
              "    [theme=dark] .colab-df-convert:hover {\n",
              "      background-color: #434B5C;\n",
              "      box-shadow: 0px 1px 3px 1px rgba(0, 0, 0, 0.15);\n",
              "      filter: drop-shadow(0px 1px 2px rgba(0, 0, 0, 0.3));\n",
              "      fill: #FFFFFF;\n",
              "    }\n",
              "  </style>\n",
              "\n",
              "      <script>\n",
              "        const buttonEl =\n",
              "          document.querySelector('#df-63715c8e-306a-48c0-afe8-8373c0de661f button.colab-df-convert');\n",
              "        buttonEl.style.display =\n",
              "          google.colab.kernel.accessAllowed ? 'block' : 'none';\n",
              "\n",
              "        async function convertToInteractive(key) {\n",
              "          const element = document.querySelector('#df-63715c8e-306a-48c0-afe8-8373c0de661f');\n",
              "          const dataTable =\n",
              "            await google.colab.kernel.invokeFunction('convertToInteractive',\n",
              "                                                     [key], {});\n",
              "          if (!dataTable) return;\n",
              "\n",
              "          const docLinkHtml = 'Like what you see? Visit the ' +\n",
              "            '<a target=\"_blank\" href=https://colab.research.google.com/notebooks/data_table.ipynb>data table notebook</a>'\n",
              "            + ' to learn more about interactive tables.';\n",
              "          element.innerHTML = '';\n",
              "          dataTable['output_type'] = 'display_data';\n",
              "          await google.colab.output.renderOutput(dataTable, element);\n",
              "          const docLink = document.createElement('div');\n",
              "          docLink.innerHTML = docLinkHtml;\n",
              "          element.appendChild(docLink);\n",
              "        }\n",
              "      </script>\n",
              "    </div>\n",
              "  </div>\n",
              "  "
            ]
          },
          "metadata": {},
          "execution_count": 84
        }
      ]
    },
    {
      "cell_type": "code",
      "source": [
        "#locate GU\n",
        "df.loc[df['Facility.State'] == 'GU']\n",
        "#GU is Guam"
      ],
      "metadata": {
        "colab": {
          "base_uri": "https://localhost:8080/",
          "height": 275
        },
        "id": "p-vwQuTr5efW",
        "outputId": "cdba16a3-e00e-4db7-cbd6-ee7b5f136353"
      },
      "execution_count": 85,
      "outputs": [
        {
          "output_type": "execute_result",
          "data": {
            "text/plain": [
              "                         Facility.Name Facility.City Facility.State  \\\n",
              "4704  Guam Memorial Hospital Authority      Tamuning             GU   \n",
              "4705        Guam Regional Medical City        Dededo             GU   \n",
              "\n",
              "     Facility.Type  Rating.Overall Rating.Mortality Rating.Safety  \\\n",
              "4704    Government              -1             Same          None   \n",
              "4705       Private              -1             None          None   \n",
              "\n",
              "     Rating.Readmission Rating.Experience Rating.Effectiveness  ...  \\\n",
              "4704              Below              None                 None  ...   \n",
              "4705               None              None                 None  ...   \n",
              "\n",
              "     Procedure.Heart Attack.Value Procedure.Heart Failure.Cost  \\\n",
              "4704                        Lower                        12685   \n",
              "4705                      Unknown                            0   \n",
              "\n",
              "      Procedure.Heart Failure.Quality Procedure.Heart Failure.Value  \\\n",
              "4704                          Average                         Lower   \n",
              "4705                          Unknown                       Unknown   \n",
              "\n",
              "     Procedure.Pneumonia.Cost  Procedure.Pneumonia.Quality  \\\n",
              "4704                    12413                      Average   \n",
              "4705                        0                      Unknown   \n",
              "\n",
              "     Procedure.Pneumonia.Value Procedure.Hip Knee.Cost  \\\n",
              "4704                     Lower                       0   \n",
              "4705                   Unknown                       0   \n",
              "\n",
              "      Procedure.Hip Knee.Quality Procedure.Hip Knee.Value  \n",
              "4704                     Unknown                  Unknown  \n",
              "4705                     Unknown                  Unknown  \n",
              "\n",
              "[2 rows x 24 columns]"
            ],
            "text/html": [
              "\n",
              "  <div id=\"df-0e48e638-6fae-42c3-b714-186aa72ac520\">\n",
              "    <div class=\"colab-df-container\">\n",
              "      <div>\n",
              "<style scoped>\n",
              "    .dataframe tbody tr th:only-of-type {\n",
              "        vertical-align: middle;\n",
              "    }\n",
              "\n",
              "    .dataframe tbody tr th {\n",
              "        vertical-align: top;\n",
              "    }\n",
              "\n",
              "    .dataframe thead th {\n",
              "        text-align: right;\n",
              "    }\n",
              "</style>\n",
              "<table border=\"1\" class=\"dataframe\">\n",
              "  <thead>\n",
              "    <tr style=\"text-align: right;\">\n",
              "      <th></th>\n",
              "      <th>Facility.Name</th>\n",
              "      <th>Facility.City</th>\n",
              "      <th>Facility.State</th>\n",
              "      <th>Facility.Type</th>\n",
              "      <th>Rating.Overall</th>\n",
              "      <th>Rating.Mortality</th>\n",
              "      <th>Rating.Safety</th>\n",
              "      <th>Rating.Readmission</th>\n",
              "      <th>Rating.Experience</th>\n",
              "      <th>Rating.Effectiveness</th>\n",
              "      <th>...</th>\n",
              "      <th>Procedure.Heart Attack.Value</th>\n",
              "      <th>Procedure.Heart Failure.Cost</th>\n",
              "      <th>Procedure.Heart Failure.Quality</th>\n",
              "      <th>Procedure.Heart Failure.Value</th>\n",
              "      <th>Procedure.Pneumonia.Cost</th>\n",
              "      <th>Procedure.Pneumonia.Quality</th>\n",
              "      <th>Procedure.Pneumonia.Value</th>\n",
              "      <th>Procedure.Hip Knee.Cost</th>\n",
              "      <th>Procedure.Hip Knee.Quality</th>\n",
              "      <th>Procedure.Hip Knee.Value</th>\n",
              "    </tr>\n",
              "  </thead>\n",
              "  <tbody>\n",
              "    <tr>\n",
              "      <th>4704</th>\n",
              "      <td>Guam Memorial Hospital Authority</td>\n",
              "      <td>Tamuning</td>\n",
              "      <td>GU</td>\n",
              "      <td>Government</td>\n",
              "      <td>-1</td>\n",
              "      <td>Same</td>\n",
              "      <td>None</td>\n",
              "      <td>Below</td>\n",
              "      <td>None</td>\n",
              "      <td>None</td>\n",
              "      <td>...</td>\n",
              "      <td>Lower</td>\n",
              "      <td>12685</td>\n",
              "      <td>Average</td>\n",
              "      <td>Lower</td>\n",
              "      <td>12413</td>\n",
              "      <td>Average</td>\n",
              "      <td>Lower</td>\n",
              "      <td>0</td>\n",
              "      <td>Unknown</td>\n",
              "      <td>Unknown</td>\n",
              "    </tr>\n",
              "    <tr>\n",
              "      <th>4705</th>\n",
              "      <td>Guam Regional Medical City</td>\n",
              "      <td>Dededo</td>\n",
              "      <td>GU</td>\n",
              "      <td>Private</td>\n",
              "      <td>-1</td>\n",
              "      <td>None</td>\n",
              "      <td>None</td>\n",
              "      <td>None</td>\n",
              "      <td>None</td>\n",
              "      <td>None</td>\n",
              "      <td>...</td>\n",
              "      <td>Unknown</td>\n",
              "      <td>0</td>\n",
              "      <td>Unknown</td>\n",
              "      <td>Unknown</td>\n",
              "      <td>0</td>\n",
              "      <td>Unknown</td>\n",
              "      <td>Unknown</td>\n",
              "      <td>0</td>\n",
              "      <td>Unknown</td>\n",
              "      <td>Unknown</td>\n",
              "    </tr>\n",
              "  </tbody>\n",
              "</table>\n",
              "<p>2 rows × 24 columns</p>\n",
              "</div>\n",
              "      <button class=\"colab-df-convert\" onclick=\"convertToInteractive('df-0e48e638-6fae-42c3-b714-186aa72ac520')\"\n",
              "              title=\"Convert this dataframe to an interactive table.\"\n",
              "              style=\"display:none;\">\n",
              "        \n",
              "  <svg xmlns=\"http://www.w3.org/2000/svg\" height=\"24px\"viewBox=\"0 0 24 24\"\n",
              "       width=\"24px\">\n",
              "    <path d=\"M0 0h24v24H0V0z\" fill=\"none\"/>\n",
              "    <path d=\"M18.56 5.44l.94 2.06.94-2.06 2.06-.94-2.06-.94-.94-2.06-.94 2.06-2.06.94zm-11 1L8.5 8.5l.94-2.06 2.06-.94-2.06-.94L8.5 2.5l-.94 2.06-2.06.94zm10 10l.94 2.06.94-2.06 2.06-.94-2.06-.94-.94-2.06-.94 2.06-2.06.94z\"/><path d=\"M17.41 7.96l-1.37-1.37c-.4-.4-.92-.59-1.43-.59-.52 0-1.04.2-1.43.59L10.3 9.45l-7.72 7.72c-.78.78-.78 2.05 0 2.83L4 21.41c.39.39.9.59 1.41.59.51 0 1.02-.2 1.41-.59l7.78-7.78 2.81-2.81c.8-.78.8-2.07 0-2.86zM5.41 20L4 18.59l7.72-7.72 1.47 1.35L5.41 20z\"/>\n",
              "  </svg>\n",
              "      </button>\n",
              "      \n",
              "  <style>\n",
              "    .colab-df-container {\n",
              "      display:flex;\n",
              "      flex-wrap:wrap;\n",
              "      gap: 12px;\n",
              "    }\n",
              "\n",
              "    .colab-df-convert {\n",
              "      background-color: #E8F0FE;\n",
              "      border: none;\n",
              "      border-radius: 50%;\n",
              "      cursor: pointer;\n",
              "      display: none;\n",
              "      fill: #1967D2;\n",
              "      height: 32px;\n",
              "      padding: 0 0 0 0;\n",
              "      width: 32px;\n",
              "    }\n",
              "\n",
              "    .colab-df-convert:hover {\n",
              "      background-color: #E2EBFA;\n",
              "      box-shadow: 0px 1px 2px rgba(60, 64, 67, 0.3), 0px 1px 3px 1px rgba(60, 64, 67, 0.15);\n",
              "      fill: #174EA6;\n",
              "    }\n",
              "\n",
              "    [theme=dark] .colab-df-convert {\n",
              "      background-color: #3B4455;\n",
              "      fill: #D2E3FC;\n",
              "    }\n",
              "\n",
              "    [theme=dark] .colab-df-convert:hover {\n",
              "      background-color: #434B5C;\n",
              "      box-shadow: 0px 1px 3px 1px rgba(0, 0, 0, 0.15);\n",
              "      filter: drop-shadow(0px 1px 2px rgba(0, 0, 0, 0.3));\n",
              "      fill: #FFFFFF;\n",
              "    }\n",
              "  </style>\n",
              "\n",
              "      <script>\n",
              "        const buttonEl =\n",
              "          document.querySelector('#df-0e48e638-6fae-42c3-b714-186aa72ac520 button.colab-df-convert');\n",
              "        buttonEl.style.display =\n",
              "          google.colab.kernel.accessAllowed ? 'block' : 'none';\n",
              "\n",
              "        async function convertToInteractive(key) {\n",
              "          const element = document.querySelector('#df-0e48e638-6fae-42c3-b714-186aa72ac520');\n",
              "          const dataTable =\n",
              "            await google.colab.kernel.invokeFunction('convertToInteractive',\n",
              "                                                     [key], {});\n",
              "          if (!dataTable) return;\n",
              "\n",
              "          const docLinkHtml = 'Like what you see? Visit the ' +\n",
              "            '<a target=\"_blank\" href=https://colab.research.google.com/notebooks/data_table.ipynb>data table notebook</a>'\n",
              "            + ' to learn more about interactive tables.';\n",
              "          element.innerHTML = '';\n",
              "          dataTable['output_type'] = 'display_data';\n",
              "          await google.colab.output.renderOutput(dataTable, element);\n",
              "          const docLink = document.createElement('div');\n",
              "          docLink.innerHTML = docLinkHtml;\n",
              "          element.appendChild(docLink);\n",
              "        }\n",
              "      </script>\n",
              "    </div>\n",
              "  </div>\n",
              "  "
            ]
          },
          "metadata": {},
          "execution_count": 85
        }
      ]
    },
    {
      "cell_type": "code",
      "source": [
        "#locate AS\n",
        "df.loc[df['Facility.State'] == 'AS']\n",
        "#AS is American Samoa"
      ],
      "metadata": {
        "colab": {
          "base_uri": "https://localhost:8080/",
          "height": 209
        },
        "id": "h220lt2_5oXU",
        "outputId": "0ef72cb5-8508-46e4-eb93-f958382b363d"
      },
      "execution_count": 86,
      "outputs": [
        {
          "output_type": "execute_result",
          "data": {
            "text/plain": [
              "                    Facility.Name Facility.City Facility.State Facility.Type  \\\n",
              "4703  Lbj Tropical Medical Center     Pago Pago             AS    Government   \n",
              "\n",
              "      Rating.Overall Rating.Mortality Rating.Safety Rating.Readmission  \\\n",
              "4703              -1             None          None               None   \n",
              "\n",
              "     Rating.Experience Rating.Effectiveness  ... Procedure.Heart Attack.Value  \\\n",
              "4703              None                 None  ...                      Unknown   \n",
              "\n",
              "     Procedure.Heart Failure.Cost  Procedure.Heart Failure.Quality  \\\n",
              "4703                            0                          Unknown   \n",
              "\n",
              "     Procedure.Heart Failure.Value Procedure.Pneumonia.Cost  \\\n",
              "4703                       Unknown                        0   \n",
              "\n",
              "      Procedure.Pneumonia.Quality Procedure.Pneumonia.Value  \\\n",
              "4703                      Unknown                   Unknown   \n",
              "\n",
              "     Procedure.Hip Knee.Cost  Procedure.Hip Knee.Quality  \\\n",
              "4703                       0                     Unknown   \n",
              "\n",
              "     Procedure.Hip Knee.Value  \n",
              "4703                  Unknown  \n",
              "\n",
              "[1 rows x 24 columns]"
            ],
            "text/html": [
              "\n",
              "  <div id=\"df-d4850f89-6006-4136-be79-292ba9a83d24\">\n",
              "    <div class=\"colab-df-container\">\n",
              "      <div>\n",
              "<style scoped>\n",
              "    .dataframe tbody tr th:only-of-type {\n",
              "        vertical-align: middle;\n",
              "    }\n",
              "\n",
              "    .dataframe tbody tr th {\n",
              "        vertical-align: top;\n",
              "    }\n",
              "\n",
              "    .dataframe thead th {\n",
              "        text-align: right;\n",
              "    }\n",
              "</style>\n",
              "<table border=\"1\" class=\"dataframe\">\n",
              "  <thead>\n",
              "    <tr style=\"text-align: right;\">\n",
              "      <th></th>\n",
              "      <th>Facility.Name</th>\n",
              "      <th>Facility.City</th>\n",
              "      <th>Facility.State</th>\n",
              "      <th>Facility.Type</th>\n",
              "      <th>Rating.Overall</th>\n",
              "      <th>Rating.Mortality</th>\n",
              "      <th>Rating.Safety</th>\n",
              "      <th>Rating.Readmission</th>\n",
              "      <th>Rating.Experience</th>\n",
              "      <th>Rating.Effectiveness</th>\n",
              "      <th>...</th>\n",
              "      <th>Procedure.Heart Attack.Value</th>\n",
              "      <th>Procedure.Heart Failure.Cost</th>\n",
              "      <th>Procedure.Heart Failure.Quality</th>\n",
              "      <th>Procedure.Heart Failure.Value</th>\n",
              "      <th>Procedure.Pneumonia.Cost</th>\n",
              "      <th>Procedure.Pneumonia.Quality</th>\n",
              "      <th>Procedure.Pneumonia.Value</th>\n",
              "      <th>Procedure.Hip Knee.Cost</th>\n",
              "      <th>Procedure.Hip Knee.Quality</th>\n",
              "      <th>Procedure.Hip Knee.Value</th>\n",
              "    </tr>\n",
              "  </thead>\n",
              "  <tbody>\n",
              "    <tr>\n",
              "      <th>4703</th>\n",
              "      <td>Lbj Tropical Medical Center</td>\n",
              "      <td>Pago Pago</td>\n",
              "      <td>AS</td>\n",
              "      <td>Government</td>\n",
              "      <td>-1</td>\n",
              "      <td>None</td>\n",
              "      <td>None</td>\n",
              "      <td>None</td>\n",
              "      <td>None</td>\n",
              "      <td>None</td>\n",
              "      <td>...</td>\n",
              "      <td>Unknown</td>\n",
              "      <td>0</td>\n",
              "      <td>Unknown</td>\n",
              "      <td>Unknown</td>\n",
              "      <td>0</td>\n",
              "      <td>Unknown</td>\n",
              "      <td>Unknown</td>\n",
              "      <td>0</td>\n",
              "      <td>Unknown</td>\n",
              "      <td>Unknown</td>\n",
              "    </tr>\n",
              "  </tbody>\n",
              "</table>\n",
              "<p>1 rows × 24 columns</p>\n",
              "</div>\n",
              "      <button class=\"colab-df-convert\" onclick=\"convertToInteractive('df-d4850f89-6006-4136-be79-292ba9a83d24')\"\n",
              "              title=\"Convert this dataframe to an interactive table.\"\n",
              "              style=\"display:none;\">\n",
              "        \n",
              "  <svg xmlns=\"http://www.w3.org/2000/svg\" height=\"24px\"viewBox=\"0 0 24 24\"\n",
              "       width=\"24px\">\n",
              "    <path d=\"M0 0h24v24H0V0z\" fill=\"none\"/>\n",
              "    <path d=\"M18.56 5.44l.94 2.06.94-2.06 2.06-.94-2.06-.94-.94-2.06-.94 2.06-2.06.94zm-11 1L8.5 8.5l.94-2.06 2.06-.94-2.06-.94L8.5 2.5l-.94 2.06-2.06.94zm10 10l.94 2.06.94-2.06 2.06-.94-2.06-.94-.94-2.06-.94 2.06-2.06.94z\"/><path d=\"M17.41 7.96l-1.37-1.37c-.4-.4-.92-.59-1.43-.59-.52 0-1.04.2-1.43.59L10.3 9.45l-7.72 7.72c-.78.78-.78 2.05 0 2.83L4 21.41c.39.39.9.59 1.41.59.51 0 1.02-.2 1.41-.59l7.78-7.78 2.81-2.81c.8-.78.8-2.07 0-2.86zM5.41 20L4 18.59l7.72-7.72 1.47 1.35L5.41 20z\"/>\n",
              "  </svg>\n",
              "      </button>\n",
              "      \n",
              "  <style>\n",
              "    .colab-df-container {\n",
              "      display:flex;\n",
              "      flex-wrap:wrap;\n",
              "      gap: 12px;\n",
              "    }\n",
              "\n",
              "    .colab-df-convert {\n",
              "      background-color: #E8F0FE;\n",
              "      border: none;\n",
              "      border-radius: 50%;\n",
              "      cursor: pointer;\n",
              "      display: none;\n",
              "      fill: #1967D2;\n",
              "      height: 32px;\n",
              "      padding: 0 0 0 0;\n",
              "      width: 32px;\n",
              "    }\n",
              "\n",
              "    .colab-df-convert:hover {\n",
              "      background-color: #E2EBFA;\n",
              "      box-shadow: 0px 1px 2px rgba(60, 64, 67, 0.3), 0px 1px 3px 1px rgba(60, 64, 67, 0.15);\n",
              "      fill: #174EA6;\n",
              "    }\n",
              "\n",
              "    [theme=dark] .colab-df-convert {\n",
              "      background-color: #3B4455;\n",
              "      fill: #D2E3FC;\n",
              "    }\n",
              "\n",
              "    [theme=dark] .colab-df-convert:hover {\n",
              "      background-color: #434B5C;\n",
              "      box-shadow: 0px 1px 3px 1px rgba(0, 0, 0, 0.15);\n",
              "      filter: drop-shadow(0px 1px 2px rgba(0, 0, 0, 0.3));\n",
              "      fill: #FFFFFF;\n",
              "    }\n",
              "  </style>\n",
              "\n",
              "      <script>\n",
              "        const buttonEl =\n",
              "          document.querySelector('#df-d4850f89-6006-4136-be79-292ba9a83d24 button.colab-df-convert');\n",
              "        buttonEl.style.display =\n",
              "          google.colab.kernel.accessAllowed ? 'block' : 'none';\n",
              "\n",
              "        async function convertToInteractive(key) {\n",
              "          const element = document.querySelector('#df-d4850f89-6006-4136-be79-292ba9a83d24');\n",
              "          const dataTable =\n",
              "            await google.colab.kernel.invokeFunction('convertToInteractive',\n",
              "                                                     [key], {});\n",
              "          if (!dataTable) return;\n",
              "\n",
              "          const docLinkHtml = 'Like what you see? Visit the ' +\n",
              "            '<a target=\"_blank\" href=https://colab.research.google.com/notebooks/data_table.ipynb>data table notebook</a>'\n",
              "            + ' to learn more about interactive tables.';\n",
              "          element.innerHTML = '';\n",
              "          dataTable['output_type'] = 'display_data';\n",
              "          await google.colab.output.renderOutput(dataTable, element);\n",
              "          const docLink = document.createElement('div');\n",
              "          docLink.innerHTML = docLinkHtml;\n",
              "          element.appendChild(docLink);\n",
              "        }\n",
              "      </script>\n",
              "    </div>\n",
              "  </div>\n",
              "  "
            ]
          },
          "metadata": {},
          "execution_count": 86
        }
      ]
    },
    {
      "cell_type": "code",
      "source": [
        "#locate MP\n",
        "df.loc[df['Facility.State'] == 'MP']\n",
        "#MP is Northern Mariana Islands"
      ],
      "metadata": {
        "colab": {
          "base_uri": "https://localhost:8080/",
          "height": 209
        },
        "id": "TGeFTfIR5o-j",
        "outputId": "e25d2e2f-ea2e-4014-98b7-3e79f8ba3ee7"
      },
      "execution_count": 87,
      "outputs": [
        {
          "output_type": "execute_result",
          "data": {
            "text/plain": [
              "                   Facility.Name Facility.City Facility.State Facility.Type  \\\n",
              "4706  Commonwealth Health Center       Garapan             MP   Proprietary   \n",
              "\n",
              "      Rating.Overall Rating.Mortality Rating.Safety Rating.Readmission  \\\n",
              "4706              -1             Same          None               Same   \n",
              "\n",
              "     Rating.Experience Rating.Effectiveness  ... Procedure.Heart Attack.Value  \\\n",
              "4706              None                 None  ...                        Lower   \n",
              "\n",
              "     Procedure.Heart Failure.Cost  Procedure.Heart Failure.Quality  \\\n",
              "4706                        14173                          Average   \n",
              "\n",
              "     Procedure.Heart Failure.Value Procedure.Pneumonia.Cost  \\\n",
              "4706                         Lower                    11087   \n",
              "\n",
              "      Procedure.Pneumonia.Quality Procedure.Pneumonia.Value  \\\n",
              "4706                        Worse                     Lower   \n",
              "\n",
              "     Procedure.Hip Knee.Cost  Procedure.Hip Knee.Quality  \\\n",
              "4706                       0                     Unknown   \n",
              "\n",
              "     Procedure.Hip Knee.Value  \n",
              "4706                  Unknown  \n",
              "\n",
              "[1 rows x 24 columns]"
            ],
            "text/html": [
              "\n",
              "  <div id=\"df-fff29b11-de38-48a4-8fd2-6f5977fea19d\">\n",
              "    <div class=\"colab-df-container\">\n",
              "      <div>\n",
              "<style scoped>\n",
              "    .dataframe tbody tr th:only-of-type {\n",
              "        vertical-align: middle;\n",
              "    }\n",
              "\n",
              "    .dataframe tbody tr th {\n",
              "        vertical-align: top;\n",
              "    }\n",
              "\n",
              "    .dataframe thead th {\n",
              "        text-align: right;\n",
              "    }\n",
              "</style>\n",
              "<table border=\"1\" class=\"dataframe\">\n",
              "  <thead>\n",
              "    <tr style=\"text-align: right;\">\n",
              "      <th></th>\n",
              "      <th>Facility.Name</th>\n",
              "      <th>Facility.City</th>\n",
              "      <th>Facility.State</th>\n",
              "      <th>Facility.Type</th>\n",
              "      <th>Rating.Overall</th>\n",
              "      <th>Rating.Mortality</th>\n",
              "      <th>Rating.Safety</th>\n",
              "      <th>Rating.Readmission</th>\n",
              "      <th>Rating.Experience</th>\n",
              "      <th>Rating.Effectiveness</th>\n",
              "      <th>...</th>\n",
              "      <th>Procedure.Heart Attack.Value</th>\n",
              "      <th>Procedure.Heart Failure.Cost</th>\n",
              "      <th>Procedure.Heart Failure.Quality</th>\n",
              "      <th>Procedure.Heart Failure.Value</th>\n",
              "      <th>Procedure.Pneumonia.Cost</th>\n",
              "      <th>Procedure.Pneumonia.Quality</th>\n",
              "      <th>Procedure.Pneumonia.Value</th>\n",
              "      <th>Procedure.Hip Knee.Cost</th>\n",
              "      <th>Procedure.Hip Knee.Quality</th>\n",
              "      <th>Procedure.Hip Knee.Value</th>\n",
              "    </tr>\n",
              "  </thead>\n",
              "  <tbody>\n",
              "    <tr>\n",
              "      <th>4706</th>\n",
              "      <td>Commonwealth Health Center</td>\n",
              "      <td>Garapan</td>\n",
              "      <td>MP</td>\n",
              "      <td>Proprietary</td>\n",
              "      <td>-1</td>\n",
              "      <td>Same</td>\n",
              "      <td>None</td>\n",
              "      <td>Same</td>\n",
              "      <td>None</td>\n",
              "      <td>None</td>\n",
              "      <td>...</td>\n",
              "      <td>Lower</td>\n",
              "      <td>14173</td>\n",
              "      <td>Average</td>\n",
              "      <td>Lower</td>\n",
              "      <td>11087</td>\n",
              "      <td>Worse</td>\n",
              "      <td>Lower</td>\n",
              "      <td>0</td>\n",
              "      <td>Unknown</td>\n",
              "      <td>Unknown</td>\n",
              "    </tr>\n",
              "  </tbody>\n",
              "</table>\n",
              "<p>1 rows × 24 columns</p>\n",
              "</div>\n",
              "      <button class=\"colab-df-convert\" onclick=\"convertToInteractive('df-fff29b11-de38-48a4-8fd2-6f5977fea19d')\"\n",
              "              title=\"Convert this dataframe to an interactive table.\"\n",
              "              style=\"display:none;\">\n",
              "        \n",
              "  <svg xmlns=\"http://www.w3.org/2000/svg\" height=\"24px\"viewBox=\"0 0 24 24\"\n",
              "       width=\"24px\">\n",
              "    <path d=\"M0 0h24v24H0V0z\" fill=\"none\"/>\n",
              "    <path d=\"M18.56 5.44l.94 2.06.94-2.06 2.06-.94-2.06-.94-.94-2.06-.94 2.06-2.06.94zm-11 1L8.5 8.5l.94-2.06 2.06-.94-2.06-.94L8.5 2.5l-.94 2.06-2.06.94zm10 10l.94 2.06.94-2.06 2.06-.94-2.06-.94-.94-2.06-.94 2.06-2.06.94z\"/><path d=\"M17.41 7.96l-1.37-1.37c-.4-.4-.92-.59-1.43-.59-.52 0-1.04.2-1.43.59L10.3 9.45l-7.72 7.72c-.78.78-.78 2.05 0 2.83L4 21.41c.39.39.9.59 1.41.59.51 0 1.02-.2 1.41-.59l7.78-7.78 2.81-2.81c.8-.78.8-2.07 0-2.86zM5.41 20L4 18.59l7.72-7.72 1.47 1.35L5.41 20z\"/>\n",
              "  </svg>\n",
              "      </button>\n",
              "      \n",
              "  <style>\n",
              "    .colab-df-container {\n",
              "      display:flex;\n",
              "      flex-wrap:wrap;\n",
              "      gap: 12px;\n",
              "    }\n",
              "\n",
              "    .colab-df-convert {\n",
              "      background-color: #E8F0FE;\n",
              "      border: none;\n",
              "      border-radius: 50%;\n",
              "      cursor: pointer;\n",
              "      display: none;\n",
              "      fill: #1967D2;\n",
              "      height: 32px;\n",
              "      padding: 0 0 0 0;\n",
              "      width: 32px;\n",
              "    }\n",
              "\n",
              "    .colab-df-convert:hover {\n",
              "      background-color: #E2EBFA;\n",
              "      box-shadow: 0px 1px 2px rgba(60, 64, 67, 0.3), 0px 1px 3px 1px rgba(60, 64, 67, 0.15);\n",
              "      fill: #174EA6;\n",
              "    }\n",
              "\n",
              "    [theme=dark] .colab-df-convert {\n",
              "      background-color: #3B4455;\n",
              "      fill: #D2E3FC;\n",
              "    }\n",
              "\n",
              "    [theme=dark] .colab-df-convert:hover {\n",
              "      background-color: #434B5C;\n",
              "      box-shadow: 0px 1px 3px 1px rgba(0, 0, 0, 0.15);\n",
              "      filter: drop-shadow(0px 1px 2px rgba(0, 0, 0, 0.3));\n",
              "      fill: #FFFFFF;\n",
              "    }\n",
              "  </style>\n",
              "\n",
              "      <script>\n",
              "        const buttonEl =\n",
              "          document.querySelector('#df-fff29b11-de38-48a4-8fd2-6f5977fea19d button.colab-df-convert');\n",
              "        buttonEl.style.display =\n",
              "          google.colab.kernel.accessAllowed ? 'block' : 'none';\n",
              "\n",
              "        async function convertToInteractive(key) {\n",
              "          const element = document.querySelector('#df-fff29b11-de38-48a4-8fd2-6f5977fea19d');\n",
              "          const dataTable =\n",
              "            await google.colab.kernel.invokeFunction('convertToInteractive',\n",
              "                                                     [key], {});\n",
              "          if (!dataTable) return;\n",
              "\n",
              "          const docLinkHtml = 'Like what you see? Visit the ' +\n",
              "            '<a target=\"_blank\" href=https://colab.research.google.com/notebooks/data_table.ipynb>data table notebook</a>'\n",
              "            + ' to learn more about interactive tables.';\n",
              "          element.innerHTML = '';\n",
              "          dataTable['output_type'] = 'display_data';\n",
              "          await google.colab.output.renderOutput(dataTable, element);\n",
              "          const docLink = document.createElement('div');\n",
              "          docLink.innerHTML = docLinkHtml;\n",
              "          element.appendChild(docLink);\n",
              "        }\n",
              "      </script>\n",
              "    </div>\n",
              "  </div>\n",
              "  "
            ]
          },
          "metadata": {},
          "execution_count": 87
        }
      ]
    },
    {
      "cell_type": "markdown",
      "source": [
        "US territories listed plus Puerto Rico and DC adds up to 56 for this column"
      ],
      "metadata": {
        "id": "TS_LJFR774C0"
      }
    },
    {
      "cell_type": "code",
      "source": [
        "#Kind of organization operating the hospital: one of Government, Private, Proprietary, Church, or Unknown\n",
        "df['Facility.Type'].value_counts()"
      ],
      "metadata": {
        "colab": {
          "base_uri": "https://localhost:8080/"
        },
        "id": "gQgH1EKF2b7g",
        "outputId": "d76c6018-3c0e-493c-ff36-5fd31a47b07e"
      },
      "execution_count": 88,
      "outputs": [
        {
          "output_type": "execute_result",
          "data": {
            "text/plain": [
              "Private        2078\n",
              "Government     1064\n",
              "Proprietary     796\n",
              "Unknown         506\n",
              "Church          328\n",
              "Name: Facility.Type, dtype: int64"
            ]
          },
          "metadata": {},
          "execution_count": 88
        }
      ]
    },
    {
      "cell_type": "markdown",
      "source": [
        "Change ordinal columns to numeric to make visualizations easier to understand"
      ],
      "metadata": {
        "id": "-7beGoBj8L-q"
      }
    },
    {
      "cell_type": "code",
      "source": [
        "#Overall rating between 1 and 5 stars, with 5 stars being the highest rating; -1 represents no rating.\n",
        "df['Rating.Overall'].value_counts()"
      ],
      "metadata": {
        "colab": {
          "base_uri": "https://localhost:8080/"
        },
        "id": "_TYnwL_g22SW",
        "outputId": "ad87c7dd-15a3-4908-86d3-70a66c5102ea"
      },
      "execution_count": 89,
      "outputs": [
        {
          "output_type": "execute_result",
          "data": {
            "text/plain": [
              " 3    1258\n",
              " 4    1087\n",
              "-1    1057\n",
              " 2     797\n",
              " 5     292\n",
              " 1     281\n",
              "Name: Rating.Overall, dtype: int64"
            ]
          },
          "metadata": {},
          "execution_count": 89
        }
      ]
    },
    {
      "cell_type": "code",
      "source": [
        "#create dictionary to fix -1 rating to 0 to represent no rating in Rating.Overall Column\n",
        "df['Rating.Overall'] = df['Rating.Overall'].replace(['-1'],'0')\n",
        "df['Rating.Overall'].replace({'-1': 0,}, inplace=True)"
      ],
      "metadata": {
        "id": "X4btmrMd9Zzy"
      },
      "execution_count": 103,
      "outputs": []
    },
    {
      "cell_type": "code",
      "source": [
        "df['Rating.Overall'].value_counts()"
      ],
      "metadata": {
        "colab": {
          "base_uri": "https://localhost:8080/"
        },
        "id": "YuklaPy--UNx",
        "outputId": "601bd577-7cb2-4e70-ad3e-4df3355fa171"
      },
      "execution_count": 104,
      "outputs": [
        {
          "output_type": "execute_result",
          "data": {
            "text/plain": [
              " 3    1258\n",
              " 4    1087\n",
              "-1    1057\n",
              " 2     797\n",
              " 5     292\n",
              " 1     281\n",
              "Name: Rating.Overall, dtype: int64"
            ]
          },
          "metadata": {},
          "execution_count": 104
        }
      ]
    },
    {
      "cell_type": "code",
      "source": [
        "df['Rating.Mortality'].value_counts()"
      ],
      "metadata": {
        "colab": {
          "base_uri": "https://localhost:8080/"
        },
        "id": "tWb8FZPeB4tC",
        "outputId": "0fbb3f07-b7c2-476a-9e7b-10dc8b974e5c"
      },
      "execution_count": 92,
      "outputs": [
        {
          "output_type": "execute_result",
          "data": {
            "text/plain": [
              "Same     2663\n",
              "None     1375\n",
              "Above     385\n",
              "Below     349\n",
              "Name: Rating.Mortality, dtype: int64"
            ]
          },
          "metadata": {},
          "execution_count": 92
        }
      ]
    },
    {
      "cell_type": "code",
      "source": [
        "#None, Below, Same, Above\n",
        "df['Rating.Mortality'].replace({'Unknown': 0, 'None': 0, 'Below': 1, 'Same': 2, 'Above': 3}, inplace=True)\n",
        "df['Rating.Safety'].replace({'Unknown': 0, 'None': 0, 'Below': 1, 'Same': 2, 'Above': 3}, inplace=True)\n",
        "df['Rating.Readmission'].replace({'Unknown': 0, 'None': 0, 'Below': 1, 'Same': 2, 'Above': 3}, inplace=True)\n",
        "df['Rating.Experience'].replace({'Unknown': 0, 'None': 0, 'Below': 1, 'Same': 2, 'Above': 3}, inplace=True)\n",
        "df['Rating.Effectiveness'].replace({'Unknown': 0, 'None': 0, 'Below': 1, 'Same': 2, 'Above': 3}, inplace=True)\n",
        "df['Rating.Timeliness'].replace({'Unknown': 0, 'None': 0, 'Below': 1, 'Same': 2, 'Above': 3}, inplace=True)\n",
        "df['Rating.Imaging'].replace({'Unknown': 0, 'None': 0, 'Below': 1, 'Same': 2, 'Above': 3}, inplace=True)"
      ],
      "metadata": {
        "id": "2J6wid7OAJWM"
      },
      "execution_count": 93,
      "outputs": []
    },
    {
      "cell_type": "code",
      "source": [
        "#reviewing one of the columns to confirm change\n",
        "df['Rating.Mortality'].value_counts()"
      ],
      "metadata": {
        "colab": {
          "base_uri": "https://localhost:8080/"
        },
        "id": "nnwCpw4AC-P3",
        "outputId": "dc935c49-5a4d-4d68-8eb1-23f88690581e"
      },
      "execution_count": 94,
      "outputs": [
        {
          "output_type": "execute_result",
          "data": {
            "text/plain": [
              "2    2663\n",
              "0    1375\n",
              "3     385\n",
              "1     349\n",
              "Name: Rating.Mortality, dtype: int64"
            ]
          },
          "metadata": {},
          "execution_count": 94
        }
      ]
    },
    {
      "cell_type": "code",
      "source": [
        "#Changing type to integer\n",
        "df = df.astype({\"Rating.Mortality\":'int', \"Rating.Safety\":'int', \"Rating.Readmission\":'int', \"Rating.Experience\":'int', \"Rating.Effectiveness\":'int', \"Rating.Timeliness\":'int', \"Rating.Imaging\":'int'})"
      ],
      "metadata": {
        "id": "pBH2vFUGOxf3"
      },
      "execution_count": 95,
      "outputs": []
    },
    {
      "cell_type": "code",
      "source": [
        "#Lower, Average, Worse, or Unknown\n",
        "df['Procedure.Heart Attack.Quality'].replace({'Unknown': 0, 'None': 0, 'Worse': 1, 'Higher':1, 'Average': 2, 'Lower': 3, 'Better': 3}, inplace=True)\n",
        "df['Procedure.Heart Attack.Value'].replace({'Unknown': 0, 'None': 0, 'Worse': 1, 'Higher':1, 'Average': 2, 'Lower': 3, 'Better': 3}, inplace=True)\n",
        "df['Procedure.Heart Failure.Quality'].replace({'Unknown': 0, 'None': 0, 'Worse': 1, 'Higher':1, 'Average': 2, 'Lower': 3, 'Better': 3}, inplace=True)\n",
        "df['Procedure.Heart Failure.Value'].replace({'Unknown': 0, 'None': 0, 'Worse': 1, 'Higher':1, 'Average': 2, 'Lower': 3, 'Better': 3}, inplace=True)\n",
        "df['Procedure.Pneumonia.Quality'].replace({'Unknown': 0, 'None': 0, 'Worse': 1, 'Higher':1, 'Average': 2, 'Lower': 3, 'Better': 3}, inplace=True)\n",
        "df['Procedure.Pneumonia.Value'].replace({'Unknown': 0, 'None': 0, 'Worse': 1, 'Higher':1, 'Average': 2, 'Lower': 3, 'Better': 3}, inplace=True)\n",
        "df['Procedure.Hip Knee.Quality'].replace({'Unknown': 0, 'None': 0, 'Worse': 1, 'Higher':1, 'Average': 2, 'Lower': 3, 'Better': 3}, inplace=True)\n",
        "df['Procedure.Hip Knee.Value'].replace({'Unknown': 0, 'None': 0, 'Worse': 1, 'Higher':1, 'Average': 2, 'Lower': 3, 'Better': 3}, inplace=True)"
      ],
      "metadata": {
        "id": "XBa_xaXWKckV"
      },
      "execution_count": 96,
      "outputs": []
    },
    {
      "cell_type": "code",
      "source": [
        "#reviewing one of the columns to confirm change\n",
        "df['Procedure.Heart Attack.Quality'].value_counts()"
      ],
      "metadata": {
        "colab": {
          "base_uri": "https://localhost:8080/"
        },
        "id": "kBcEH5i9NtEa",
        "outputId": "e52b5298-dca8-4d3d-d035-33e65dfc5d80"
      },
      "execution_count": 97,
      "outputs": [
        {
          "output_type": "execute_result",
          "data": {
            "text/plain": [
              "0    2506\n",
              "2    2197\n",
              "3      45\n",
              "1      24\n",
              "Name: Procedure.Heart Attack.Quality, dtype: int64"
            ]
          },
          "metadata": {},
          "execution_count": 97
        }
      ]
    },
    {
      "cell_type": "code",
      "source": [
        "#reviewing one of the columns to confirm change\n",
        "df['Procedure.Hip Knee.Value'].value_counts()"
      ],
      "metadata": {
        "colab": {
          "base_uri": "https://localhost:8080/"
        },
        "id": "r9Ll-G_vRC3o",
        "outputId": "28d25def-304b-42e2-c1ca-ea677ee7202d"
      },
      "execution_count": 98,
      "outputs": [
        {
          "output_type": "execute_result",
          "data": {
            "text/plain": [
              "0    2045\n",
              "2    1033\n",
              "3    1027\n",
              "1     667\n",
              "Name: Procedure.Hip Knee.Value, dtype: int64"
            ]
          },
          "metadata": {},
          "execution_count": 98
        }
      ]
    },
    {
      "cell_type": "code",
      "source": [
        "#Changing type to integer\n",
        "df = df.astype({\"Procedure.Heart Attack.Quality\":'int', \"Procedure.Heart Attack.Value\":'int', \"Procedure.Heart Failure.Quality\":'int', \"Procedure.Heart Failure.Value\":'int', \"Procedure.Pneumonia.Quality\":'int', \"Procedure.Pneumonia.Value\":'int', \"Procedure.Hip Knee.Quality\":'int', \"Procedure.Hip Knee.Value\":'int'})"
      ],
      "metadata": {
        "id": "91PkYNKtP3RY"
      },
      "execution_count": 99,
      "outputs": []
    },
    {
      "cell_type": "markdown",
      "source": [
        "**Visualizations**"
      ],
      "metadata": {
        "id": "fOgFcQZe2IQq"
      }
    },
    {
      "cell_type": "code",
      "source": [
        "df['Rating.Overall'].hist()\n",
        "plt.xticks(rotation=90);"
      ],
      "metadata": {
        "colab": {
          "base_uri": "https://localhost:8080/",
          "height": 274
        },
        "id": "nx7hrtB8kMfa",
        "outputId": "7e97258b-75b6-4e3e-bdff-cbfa080ef491"
      },
      "execution_count": 100,
      "outputs": [
        {
          "output_type": "display_data",
          "data": {
            "text/plain": [
              "<Figure size 432x288 with 1 Axes>"
            ],
            "image/png": "[encoded data removed]"
          },
          "metadata": {}
        }
      ]
    },
    {
      "cell_type": "markdown",
      "source": [
        "The Overal Rating histogram above shows that the greatest number of hospitals have a 3, or average, rating. Over a 1000 hospitals have a 4 rating but almost just as many have no rating."
      ],
      "metadata": {
        "id": "89k26JhckZRa"
      }
    },
    {
      "cell_type": "code",
      "source": [
        "sns.heatmap(corr, cmap = 'Blues');"
      ],
      "metadata": {
        "colab": {
          "base_uri": "https://localhost:8080/",
          "height": 481
        },
        "id": "2uGFCNSQww5K",
        "outputId": "c58f8564-c301-4859-a360-c8952f62e7a8"
      },
      "execution_count": 119,
      "outputs": [
        {
          "output_type": "display_data",
          "data": {
            "text/plain": [
              "<Figure size 576x396 with 2 Axes>"
            ],
            "image/png": "[encoded data removed]"
          },
          "metadata": {}
        }
      ]
    },
    {
      "cell_type": "markdown",
      "source": [
        "In the heat map, I took out annot=True to take out the correlation values as there are too many features and the values overlapped. \n",
        "\n",
        "General trends- Procedure.Heart.Failure.Quality and cost has a high correlation with Rating.Morality.\n",
        "\n",
        "The costs for all 4 procedures tend to be highly correlated with quality and value of that procedure. \n",
        "\n",
        "Rating.Readmission has about a 0.7 correlation with Rating.Overall"
      ],
      "metadata": {
        "id": "lPW_pMEOzAvH"
      }
    },
    {
      "cell_type": "code",
      "source": [
        "fig, axes = plt.subplots(ncols=2, figsize=(12,5))\n",
        "sns.barplot(data = df, x = 'Rating.Overall', y = 'Procedure.Heart Attack.Cost', ax=axes[0])\n",
        "axes[0].set_title('Hospital Rating Based on Heart Attack Procedure Cost', fontsize = 15, fontweight = 'bold')\n",
        "\n",
        "sns.barplot(data = df, x = 'Rating.Overall', y = 'Procedure.Heart Failure.Cost', ax=axes[1])\n",
        "axes[1].set_title('Hospital Rating Based on Heart Failure Procedure Cost', fontsize = 15, fontweight = 'bold')\n",
        "\n",
        "fig.suptitle('The Effect of Heart Attack and Heart Failure Costs on Hospital Ratings', fontsize = 20, fontweight = 'bold', y=1.05)\n",
        "fig.tight_layout()"
      ],
      "metadata": {
        "colab": {
          "base_uri": "https://localhost:8080/",
          "height": 396
        },
        "id": "ol41XbQGlTfD",
        "outputId": "3ae520eb-04b3-4f89-926b-775685572f73"
      },
      "execution_count": 127,
      "outputs": [
        {
          "output_type": "display_data",
          "data": {
            "text/plain": [
              "<Figure size 864x360 with 2 Axes>"
            ],
            "image/png": "[encoded data removed]"
          },
          "metadata": {}
        }
      ]
    },
    {
      "cell_type": "markdown",
      "source": [
        "Heart failure costs are slightly higher than heart attack costs at 4 and 3 rated hospitals. Heart attack costs are higher than heart failure costs at 1 rated hospitals. In general, heart failure and heart attack costs decrease the higher the hospital rating."
      ],
      "metadata": {
        "id": "1ogzy0m1-m6b"
      }
    },
    {
      "cell_type": "code",
      "source": [
        "fig, axes = plt.subplots(ncols=2, figsize=(12,5))\n",
        "sns.barplot(data = df, x = 'Rating.Overall', y = 'Procedure.Pneumonia.Cost', ax=axes[0])\n",
        "axes[0].set_title('Hospital Rating Based on Pneumonia Procedure Cost', fontsize = 15, fontweight = 'bold')\n",
        "\n",
        "sns.barplot(data = df, x = 'Rating.Overall', y = 'Procedure.Hip Knee.Cost', ax=axes[1])\n",
        "axes[1].set_title('Hospital Rating Based on Hip Knee Procedure Cost', fontsize = 15, fontweight = 'bold')\n",
        "\n",
        "fig.suptitle('The Effect of Knee and Hip Procedural Costs on Hospital Ratings', fontsize = 20, fontweight = 'bold', y=1.05)\n",
        "fig.tight_layout()"
      ],
      "metadata": {
        "colab": {
          "base_uri": "https://localhost:8080/",
          "height": 396
        },
        "id": "9QsABB042ViH",
        "outputId": "8f046614-12ef-4f29-c75e-c35ec2029edb"
      },
      "execution_count": 129,
      "outputs": [
        {
          "output_type": "display_data",
          "data": {
            "text/plain": [
              "<Figure size 864x360 with 2 Axes>"
            ],
            "image/png": "[encoded data removed]"
          },
          "metadata": {}
        }
      ]
    },
    {
      "cell_type": "markdown",
      "source": [
        "The trend in the above barplot shows the higher the hospital rating the lower the costs for pneumonia procedures while costs for hip and knee procedures fluctuate more with a average rating of 3 having the least cost."
      ],
      "metadata": {
        "id": "s-Drm-jIlv8j"
      }
    },
    {
      "cell_type": "code",
      "source": [
        "sns.barplot(data=df, x='Facility.Type', y='Rating.Mortality');"
      ],
      "metadata": {
        "colab": {
          "base_uri": "https://localhost:8080/",
          "height": 361
        },
        "id": "k19mnymv7cAY",
        "outputId": "49c88166-1834-4b4d-fc38-2f6b1e18c809"
      },
      "execution_count": 146,
      "outputs": [
        {
          "output_type": "display_data",
          "data": {
            "text/plain": [
              "<Figure size 576x396 with 1 Axes>"
            ],
            "image/png": "[encoded data removed]"
          },
          "metadata": {}
        }
      ]
    },
    {
      "cell_type": "markdown",
      "source": [
        "Churches have the highest mortality rating, at almost a 2 churches have almost the same mortality rating as the national average for all hospitals followed by private hospitals. Government hospitals have the lowest rating and at closer to a rating of 1, they have a below average mortality rating compared to the national average."
      ],
      "metadata": {
        "id": "mMqNaEzxq9nQ"
      }
    }
  ]
}