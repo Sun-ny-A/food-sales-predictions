{
  "nbformat": 4,
  "nbformat_minor": 0,
  "metadata": {
    "colab": {
      "name": "Project 2 Part 2",
      "provenance": [],
      "collapsed_sections": [],
      "mount_file_id": "17ePztqPpxQLPKKB1LEpMmaNny8MlmXQ7",
      "authorship_tag": "ABX9TyMP2WtWsWl6auzdFTIK0gii",
      "include_colab_link": true
    },
    "kernelspec": {
      "name": "python3",
      "display_name": "Python 3"
    },
    "language_info": {
      "name": "python"
    }
  },
  "cells": [
    {
      "cell_type": "markdown",
      "metadata": {
        "id": "view-in-github",
        "colab_type": "text"
      },
      "source": [
        "<a href=\"https://colab.research.google.com/github/Sun-ny-A/food-sales-predictions/blob/main/Project_2_Part_2.ipynb\" target=\"_parent\"><img src=\"https://colab.research.google.com/assets/colab-badge.svg\" alt=\"Open In Colab\"/></a>"
      ]
    },
    {
      "cell_type": "markdown",
      "source": [
        "**Cleaning data**"
      ],
      "metadata": {
        "id": "mnIwar-OTpyD"
      }
    },
    {
      "cell_type": "code",
      "execution_count": 41,
      "metadata": {
        "colab": {
          "base_uri": "https://localhost:8080/"
        },
        "id": "oEhzDhl6JXwt",
        "outputId": "b6840d9d-6632-494e-baa8-6fa0ac7474bf"
      },
      "outputs": [
        {
          "output_type": "stream",
          "name": "stdout",
          "text": [
            "Drive already mounted at /content/drive; to attempt to forcibly remount, call drive.mount(\"/content/drive\", force_remount=True).\n"
          ]
        }
      ],
      "source": [
        "#mount drive\n",
        "from google.colab import drive\n",
        "drive.mount('/content/drive')"
      ]
    },
    {
      "cell_type": "code",
      "source": [
        "#import\n",
        "import pandas as pd\n",
        "import numpy as np\n",
        "import matplotlib.pyplot as plt\n",
        "import seaborn as sns\n",
        "from sklearn import set_config\n",
        "set_config(display='diagram')"
      ],
      "metadata": {
        "id": "BSMA4n-oKnW-"
      },
      "execution_count": 58,
      "outputs": []
    },
    {
      "cell_type": "code",
      "source": [
        "#upload data\n",
        "df = pd.read_csv('/content/cause of death under 5.csv')\n",
        "\n",
        "#only uploading columns that I will use for project: \n",
        "#ParentLocation (continent), Location (country), Period (year), Dim1 (age), and Dim2 (cause of death).\n",
        "df = pd.DataFrame(df, columns={'ParentLocation': 'Location', 'Location': 'Country', 'Period': 'Year', 'Dim1': 'Age', 'Dim2': 'Death'})\n",
        "df.head(10)"
      ],
      "metadata": {
        "colab": {
          "base_uri": "https://localhost:8080/",
          "height": 363
        },
        "id": "A3Ns3bc0KsRh",
        "outputId": "2de89c2c-8ba2-4487-98de-d6ee6a878e63"
      },
      "execution_count": 43,
      "outputs": [
        {
          "output_type": "execute_result",
          "data": {
            "text/plain": [
              "  ParentLocation Location  Period       Dim1  \\\n",
              "0         Africa   Angola    2017  0-27 days   \n",
              "1         Africa   Angola    2017  0-27 days   \n",
              "2         Africa   Angola    2017  0-27 days   \n",
              "3         Africa   Angola    2017  0-27 days   \n",
              "4         Africa   Angola    2017  0-27 days   \n",
              "5         Africa   Angola    2017  0-27 days   \n",
              "6         Africa   Angola    2017  0-27 days   \n",
              "7         Africa   Angola    2017  0-27 days   \n",
              "8         Africa   Angola    2017  0-27 days   \n",
              "9         Africa   Angola    2017  0-27 days   \n",
              "\n",
              "                                                Dim2  \n",
              "0                                           HIV/AIDS  \n",
              "1                                Diarrhoeal diseases  \n",
              "2                                            Tetanus  \n",
              "3                                            Measles  \n",
              "4                            Meningitis/encephalitis  \n",
              "5                                            Malaria  \n",
              "6                 Acute lower respiratory infections  \n",
              "7                                        Prematurity  \n",
              "8                    Birth asphyxia and birth trauma  \n",
              "9  Sepsis and other infectious conditions of the ...  "
            ],
            "text/html": [
              "\n",
              "  <div id=\"df-05ada794-8f55-49b7-afaf-d2edb2afa46c\">\n",
              "    <div class=\"colab-df-container\">\n",
              "      <div>\n",
              "<style scoped>\n",
              "    .dataframe tbody tr th:only-of-type {\n",
              "        vertical-align: middle;\n",
              "    }\n",
              "\n",
              "    .dataframe tbody tr th {\n",
              "        vertical-align: top;\n",
              "    }\n",
              "\n",
              "    .dataframe thead th {\n",
              "        text-align: right;\n",
              "    }\n",
              "</style>\n",
              "<table border=\"1\" class=\"dataframe\">\n",
              "  <thead>\n",
              "    <tr style=\"text-align: right;\">\n",
              "      <th></th>\n",
              "      <th>ParentLocation</th>\n",
              "      <th>Location</th>\n",
              "      <th>Period</th>\n",
              "      <th>Dim1</th>\n",
              "      <th>Dim2</th>\n",
              "    </tr>\n",
              "  </thead>\n",
              "  <tbody>\n",
              "    <tr>\n",
              "      <th>0</th>\n",
              "      <td>Africa</td>\n",
              "      <td>Angola</td>\n",
              "      <td>2017</td>\n",
              "      <td>0-27 days</td>\n",
              "      <td>HIV/AIDS</td>\n",
              "    </tr>\n",
              "    <tr>\n",
              "      <th>1</th>\n",
              "      <td>Africa</td>\n",
              "      <td>Angola</td>\n",
              "      <td>2017</td>\n",
              "      <td>0-27 days</td>\n",
              "      <td>Diarrhoeal diseases</td>\n",
              "    </tr>\n",
              "    <tr>\n",
              "      <th>2</th>\n",
              "      <td>Africa</td>\n",
              "      <td>Angola</td>\n",
              "      <td>2017</td>\n",
              "      <td>0-27 days</td>\n",
              "      <td>Tetanus</td>\n",
              "    </tr>\n",
              "    <tr>\n",
              "      <th>3</th>\n",
              "      <td>Africa</td>\n",
              "      <td>Angola</td>\n",
              "      <td>2017</td>\n",
              "      <td>0-27 days</td>\n",
              "      <td>Measles</td>\n",
              "    </tr>\n",
              "    <tr>\n",
              "      <th>4</th>\n",
              "      <td>Africa</td>\n",
              "      <td>Angola</td>\n",
              "      <td>2017</td>\n",
              "      <td>0-27 days</td>\n",
              "      <td>Meningitis/encephalitis</td>\n",
              "    </tr>\n",
              "    <tr>\n",
              "      <th>5</th>\n",
              "      <td>Africa</td>\n",
              "      <td>Angola</td>\n",
              "      <td>2017</td>\n",
              "      <td>0-27 days</td>\n",
              "      <td>Malaria</td>\n",
              "    </tr>\n",
              "    <tr>\n",
              "      <th>6</th>\n",
              "      <td>Africa</td>\n",
              "      <td>Angola</td>\n",
              "      <td>2017</td>\n",
              "      <td>0-27 days</td>\n",
              "      <td>Acute lower respiratory infections</td>\n",
              "    </tr>\n",
              "    <tr>\n",
              "      <th>7</th>\n",
              "      <td>Africa</td>\n",
              "      <td>Angola</td>\n",
              "      <td>2017</td>\n",
              "      <td>0-27 days</td>\n",
              "      <td>Prematurity</td>\n",
              "    </tr>\n",
              "    <tr>\n",
              "      <th>8</th>\n",
              "      <td>Africa</td>\n",
              "      <td>Angola</td>\n",
              "      <td>2017</td>\n",
              "      <td>0-27 days</td>\n",
              "      <td>Birth asphyxia and birth trauma</td>\n",
              "    </tr>\n",
              "    <tr>\n",
              "      <th>9</th>\n",
              "      <td>Africa</td>\n",
              "      <td>Angola</td>\n",
              "      <td>2017</td>\n",
              "      <td>0-27 days</td>\n",
              "      <td>Sepsis and other infectious conditions of the ...</td>\n",
              "    </tr>\n",
              "  </tbody>\n",
              "</table>\n",
              "</div>\n",
              "      <button class=\"colab-df-convert\" onclick=\"convertToInteractive('df-05ada794-8f55-49b7-afaf-d2edb2afa46c')\"\n",
              "              title=\"Convert this dataframe to an interactive table.\"\n",
              "              style=\"display:none;\">\n",
              "        \n",
              "  <svg xmlns=\"http://www.w3.org/2000/svg\" height=\"24px\"viewBox=\"0 0 24 24\"\n",
              "       width=\"24px\">\n",
              "    <path d=\"M0 0h24v24H0V0z\" fill=\"none\"/>\n",
              "    <path d=\"M18.56 5.44l.94 2.06.94-2.06 2.06-.94-2.06-.94-.94-2.06-.94 2.06-2.06.94zm-11 1L8.5 8.5l.94-2.06 2.06-.94-2.06-.94L8.5 2.5l-.94 2.06-2.06.94zm10 10l.94 2.06.94-2.06 2.06-.94-2.06-.94-.94-2.06-.94 2.06-2.06.94z\"/><path d=\"M17.41 7.96l-1.37-1.37c-.4-.4-.92-.59-1.43-.59-.52 0-1.04.2-1.43.59L10.3 9.45l-7.72 7.72c-.78.78-.78 2.05 0 2.83L4 21.41c.39.39.9.59 1.41.59.51 0 1.02-.2 1.41-.59l7.78-7.78 2.81-2.81c.8-.78.8-2.07 0-2.86zM5.41 20L4 18.59l7.72-7.72 1.47 1.35L5.41 20z\"/>\n",
              "  </svg>\n",
              "      </button>\n",
              "      \n",
              "  <style>\n",
              "    .colab-df-container {\n",
              "      display:flex;\n",
              "      flex-wrap:wrap;\n",
              "      gap: 12px;\n",
              "    }\n",
              "\n",
              "    .colab-df-convert {\n",
              "      background-color: #E8F0FE;\n",
              "      border: none;\n",
              "      border-radius: 50%;\n",
              "      cursor: pointer;\n",
              "      display: none;\n",
              "      fill: #1967D2;\n",
              "      height: 32px;\n",
              "      padding: 0 0 0 0;\n",
              "      width: 32px;\n",
              "    }\n",
              "\n",
              "    .colab-df-convert:hover {\n",
              "      background-color: #E2EBFA;\n",
              "      box-shadow: 0px 1px 2px rgba(60, 64, 67, 0.3), 0px 1px 3px 1px rgba(60, 64, 67, 0.15);\n",
              "      fill: #174EA6;\n",
              "    }\n",
              "\n",
              "    [theme=dark] .colab-df-convert {\n",
              "      background-color: #3B4455;\n",
              "      fill: #D2E3FC;\n",
              "    }\n",
              "\n",
              "    [theme=dark] .colab-df-convert:hover {\n",
              "      background-color: #434B5C;\n",
              "      box-shadow: 0px 1px 3px 1px rgba(0, 0, 0, 0.15);\n",
              "      filter: drop-shadow(0px 1px 2px rgba(0, 0, 0, 0.3));\n",
              "      fill: #FFFFFF;\n",
              "    }\n",
              "  </style>\n",
              "\n",
              "      <script>\n",
              "        const buttonEl =\n",
              "          document.querySelector('#df-05ada794-8f55-49b7-afaf-d2edb2afa46c button.colab-df-convert');\n",
              "        buttonEl.style.display =\n",
              "          google.colab.kernel.accessAllowed ? 'block' : 'none';\n",
              "\n",
              "        async function convertToInteractive(key) {\n",
              "          const element = document.querySelector('#df-05ada794-8f55-49b7-afaf-d2edb2afa46c');\n",
              "          const dataTable =\n",
              "            await google.colab.kernel.invokeFunction('convertToInteractive',\n",
              "                                                     [key], {});\n",
              "          if (!dataTable) return;\n",
              "\n",
              "          const docLinkHtml = 'Like what you see? Visit the ' +\n",
              "            '<a target=\"_blank\" href=https://colab.research.google.com/notebooks/data_table.ipynb>data table notebook</a>'\n",
              "            + ' to learn more about interactive tables.';\n",
              "          element.innerHTML = '';\n",
              "          dataTable['output_type'] = 'display_data';\n",
              "          await google.colab.output.renderOutput(dataTable, element);\n",
              "          const docLink = document.createElement('div');\n",
              "          docLink.innerHTML = docLinkHtml;\n",
              "          element.appendChild(docLink);\n",
              "        }\n",
              "      </script>\n",
              "    </div>\n",
              "  </div>\n",
              "  "
            ]
          },
          "metadata": {},
          "execution_count": 43
        }
      ]
    },
    {
      "cell_type": "code",
      "source": [
        "#change column names\n",
        "df.columns = ['Location', 'Country', 'Year', 'Age', 'Death']\n",
        "df.head()"
      ],
      "metadata": {
        "colab": {
          "base_uri": "https://localhost:8080/",
          "height": 206
        },
        "id": "zxDFO4voQfLn",
        "outputId": "7d46834f-aea4-4b8a-db63-2db9bdc19c17"
      },
      "execution_count": 44,
      "outputs": [
        {
          "output_type": "execute_result",
          "data": {
            "text/plain": [
              "  Location Country  Year        Age                    Death\n",
              "0   Africa  Angola  2017  0-27 days                 HIV/AIDS\n",
              "1   Africa  Angola  2017  0-27 days      Diarrhoeal diseases\n",
              "2   Africa  Angola  2017  0-27 days                  Tetanus\n",
              "3   Africa  Angola  2017  0-27 days                  Measles\n",
              "4   Africa  Angola  2017  0-27 days  Meningitis/encephalitis"
            ],
            "text/html": [
              "\n",
              "  <div id=\"df-cf333b43-8d5b-4250-92c7-05b9ff38beb7\">\n",
              "    <div class=\"colab-df-container\">\n",
              "      <div>\n",
              "<style scoped>\n",
              "    .dataframe tbody tr th:only-of-type {\n",
              "        vertical-align: middle;\n",
              "    }\n",
              "\n",
              "    .dataframe tbody tr th {\n",
              "        vertical-align: top;\n",
              "    }\n",
              "\n",
              "    .dataframe thead th {\n",
              "        text-align: right;\n",
              "    }\n",
              "</style>\n",
              "<table border=\"1\" class=\"dataframe\">\n",
              "  <thead>\n",
              "    <tr style=\"text-align: right;\">\n",
              "      <th></th>\n",
              "      <th>Location</th>\n",
              "      <th>Country</th>\n",
              "      <th>Year</th>\n",
              "      <th>Age</th>\n",
              "      <th>Death</th>\n",
              "    </tr>\n",
              "  </thead>\n",
              "  <tbody>\n",
              "    <tr>\n",
              "      <th>0</th>\n",
              "      <td>Africa</td>\n",
              "      <td>Angola</td>\n",
              "      <td>2017</td>\n",
              "      <td>0-27 days</td>\n",
              "      <td>HIV/AIDS</td>\n",
              "    </tr>\n",
              "    <tr>\n",
              "      <th>1</th>\n",
              "      <td>Africa</td>\n",
              "      <td>Angola</td>\n",
              "      <td>2017</td>\n",
              "      <td>0-27 days</td>\n",
              "      <td>Diarrhoeal diseases</td>\n",
              "    </tr>\n",
              "    <tr>\n",
              "      <th>2</th>\n",
              "      <td>Africa</td>\n",
              "      <td>Angola</td>\n",
              "      <td>2017</td>\n",
              "      <td>0-27 days</td>\n",
              "      <td>Tetanus</td>\n",
              "    </tr>\n",
              "    <tr>\n",
              "      <th>3</th>\n",
              "      <td>Africa</td>\n",
              "      <td>Angola</td>\n",
              "      <td>2017</td>\n",
              "      <td>0-27 days</td>\n",
              "      <td>Measles</td>\n",
              "    </tr>\n",
              "    <tr>\n",
              "      <th>4</th>\n",
              "      <td>Africa</td>\n",
              "      <td>Angola</td>\n",
              "      <td>2017</td>\n",
              "      <td>0-27 days</td>\n",
              "      <td>Meningitis/encephalitis</td>\n",
              "    </tr>\n",
              "  </tbody>\n",
              "</table>\n",
              "</div>\n",
              "      <button class=\"colab-df-convert\" onclick=\"convertToInteractive('df-cf333b43-8d5b-4250-92c7-05b9ff38beb7')\"\n",
              "              title=\"Convert this dataframe to an interactive table.\"\n",
              "              style=\"display:none;\">\n",
              "        \n",
              "  <svg xmlns=\"http://www.w3.org/2000/svg\" height=\"24px\"viewBox=\"0 0 24 24\"\n",
              "       width=\"24px\">\n",
              "    <path d=\"M0 0h24v24H0V0z\" fill=\"none\"/>\n",
              "    <path d=\"M18.56 5.44l.94 2.06.94-2.06 2.06-.94-2.06-.94-.94-2.06-.94 2.06-2.06.94zm-11 1L8.5 8.5l.94-2.06 2.06-.94-2.06-.94L8.5 2.5l-.94 2.06-2.06.94zm10 10l.94 2.06.94-2.06 2.06-.94-2.06-.94-.94-2.06-.94 2.06-2.06.94z\"/><path d=\"M17.41 7.96l-1.37-1.37c-.4-.4-.92-.59-1.43-.59-.52 0-1.04.2-1.43.59L10.3 9.45l-7.72 7.72c-.78.78-.78 2.05 0 2.83L4 21.41c.39.39.9.59 1.41.59.51 0 1.02-.2 1.41-.59l7.78-7.78 2.81-2.81c.8-.78.8-2.07 0-2.86zM5.41 20L4 18.59l7.72-7.72 1.47 1.35L5.41 20z\"/>\n",
              "  </svg>\n",
              "      </button>\n",
              "      \n",
              "  <style>\n",
              "    .colab-df-container {\n",
              "      display:flex;\n",
              "      flex-wrap:wrap;\n",
              "      gap: 12px;\n",
              "    }\n",
              "\n",
              "    .colab-df-convert {\n",
              "      background-color: #E8F0FE;\n",
              "      border: none;\n",
              "      border-radius: 50%;\n",
              "      cursor: pointer;\n",
              "      display: none;\n",
              "      fill: #1967D2;\n",
              "      height: 32px;\n",
              "      padding: 0 0 0 0;\n",
              "      width: 32px;\n",
              "    }\n",
              "\n",
              "    .colab-df-convert:hover {\n",
              "      background-color: #E2EBFA;\n",
              "      box-shadow: 0px 1px 2px rgba(60, 64, 67, 0.3), 0px 1px 3px 1px rgba(60, 64, 67, 0.15);\n",
              "      fill: #174EA6;\n",
              "    }\n",
              "\n",
              "    [theme=dark] .colab-df-convert {\n",
              "      background-color: #3B4455;\n",
              "      fill: #D2E3FC;\n",
              "    }\n",
              "\n",
              "    [theme=dark] .colab-df-convert:hover {\n",
              "      background-color: #434B5C;\n",
              "      box-shadow: 0px 1px 3px 1px rgba(0, 0, 0, 0.15);\n",
              "      filter: drop-shadow(0px 1px 2px rgba(0, 0, 0, 0.3));\n",
              "      fill: #FFFFFF;\n",
              "    }\n",
              "  </style>\n",
              "\n",
              "      <script>\n",
              "        const buttonEl =\n",
              "          document.querySelector('#df-cf333b43-8d5b-4250-92c7-05b9ff38beb7 button.colab-df-convert');\n",
              "        buttonEl.style.display =\n",
              "          google.colab.kernel.accessAllowed ? 'block' : 'none';\n",
              "\n",
              "        async function convertToInteractive(key) {\n",
              "          const element = document.querySelector('#df-cf333b43-8d5b-4250-92c7-05b9ff38beb7');\n",
              "          const dataTable =\n",
              "            await google.colab.kernel.invokeFunction('convertToInteractive',\n",
              "                                                     [key], {});\n",
              "          if (!dataTable) return;\n",
              "\n",
              "          const docLinkHtml = 'Like what you see? Visit the ' +\n",
              "            '<a target=\"_blank\" href=https://colab.research.google.com/notebooks/data_table.ipynb>data table notebook</a>'\n",
              "            + ' to learn more about interactive tables.';\n",
              "          element.innerHTML = '';\n",
              "          dataTable['output_type'] = 'display_data';\n",
              "          await google.colab.output.renderOutput(dataTable, element);\n",
              "          const docLink = document.createElement('div');\n",
              "          docLink.innerHTML = docLinkHtml;\n",
              "          element.appendChild(docLink);\n",
              "        }\n",
              "      </script>\n",
              "    </div>\n",
              "  </div>\n",
              "  "
            ]
          },
          "metadata": {},
          "execution_count": 44
        }
      ]
    },
    {
      "cell_type": "code",
      "source": [
        "#check for duplicates\n",
        "df.duplicated().sum()\n",
        "#no duplicate data"
      ],
      "metadata": {
        "colab": {
          "base_uri": "https://localhost:8080/"
        },
        "id": "llTkJDX0Tetl",
        "outputId": "6fb095c5-43e9-4534-e5ca-01c45715469b"
      },
      "execution_count": 45,
      "outputs": [
        {
          "output_type": "execute_result",
          "data": {
            "text/plain": [
              "0"
            ]
          },
          "metadata": {},
          "execution_count": 45
        }
      ]
    },
    {
      "cell_type": "code",
      "source": [
        "#no missing values\n",
        "df.info()"
      ],
      "metadata": {
        "colab": {
          "base_uri": "https://localhost:8080/"
        },
        "id": "Z0DiugZkTkrl",
        "outputId": "abe9378d-b48e-46d0-a7b7-9c698bb8657b"
      },
      "execution_count": 46,
      "outputs": [
        {
          "output_type": "stream",
          "name": "stdout",
          "text": [
            "<class 'pandas.core.frame.DataFrame'>\n",
            "RangeIndex: 30000 entries, 0 to 29999\n",
            "Data columns (total 5 columns):\n",
            " #   Column    Non-Null Count  Dtype \n",
            "---  ------    --------------  ----- \n",
            " 0   Location  30000 non-null  object\n",
            " 1   Country   30000 non-null  object\n",
            " 2   Year      30000 non-null  int64 \n",
            " 3   Age       30000 non-null  object\n",
            " 4   Death     30000 non-null  object\n",
            "dtypes: int64(1), object(4)\n",
            "memory usage: 1.1+ MB\n"
          ]
        }
      ]
    },
    {
      "cell_type": "code",
      "source": [
        "#check how may subsets of each column\n",
        "df['Location'].value_counts()"
      ],
      "metadata": {
        "colab": {
          "base_uri": "https://localhost:8080/"
        },
        "id": "PtQkZby3SL2W",
        "outputId": "080f6ab9-b2c8-4544-e339-090777255208"
      },
      "execution_count": 47,
      "outputs": [
        {
          "output_type": "execute_result",
          "data": {
            "text/plain": [
              "Africa    30000\n",
              "Name: Location, dtype: int64"
            ]
          },
          "metadata": {},
          "execution_count": 47
        }
      ]
    },
    {
      "cell_type": "code",
      "source": [
        "#it looks like the data only is only for one continent. So I can delete the location column because all these countries are in Africa.\n",
        "#remove Location column\n",
        "df.drop(['Location'], axis=1)"
      ],
      "metadata": {
        "colab": {
          "base_uri": "https://localhost:8080/",
          "height": 424
        },
        "id": "Iy5YDbPkSeRC",
        "outputId": "dbe42eb7-62e2-4357-cf92-6a01f6529611"
      },
      "execution_count": 48,
      "outputs": [
        {
          "output_type": "execute_result",
          "data": {
            "text/plain": [
              "          Country  Year        Age  \\\n",
              "0          Angola  2017  0-27 days   \n",
              "1          Angola  2017  0-27 days   \n",
              "2          Angola  2017  0-27 days   \n",
              "3          Angola  2017  0-27 days   \n",
              "4          Angola  2017  0-27 days   \n",
              "...           ...   ...        ...   \n",
              "29995  Seychelles  2005  0-27 days   \n",
              "29996  Seychelles  2005  0-27 days   \n",
              "29997  Seychelles  2005  0-27 days   \n",
              "29998  Seychelles  2005  0-27 days   \n",
              "29999  Seychelles  2005  0-27 days   \n",
              "\n",
              "                                                   Death  \n",
              "0                                               HIV/AIDS  \n",
              "1                                    Diarrhoeal diseases  \n",
              "2                                                Tetanus  \n",
              "3                                                Measles  \n",
              "4                                Meningitis/encephalitis  \n",
              "...                                                  ...  \n",
              "29995                                        Prematurity  \n",
              "29996                    Birth asphyxia and birth trauma  \n",
              "29997  Sepsis and other infectious conditions of the ...  \n",
              "29998  Other communicable, perinatal and nutritional ...  \n",
              "29999                               Congenital anomalies  \n",
              "\n",
              "[30000 rows x 4 columns]"
            ],
            "text/html": [
              "\n",
              "  <div id=\"df-2273ae0f-21bd-4358-a720-003b9e864855\">\n",
              "    <div class=\"colab-df-container\">\n",
              "      <div>\n",
              "<style scoped>\n",
              "    .dataframe tbody tr th:only-of-type {\n",
              "        vertical-align: middle;\n",
              "    }\n",
              "\n",
              "    .dataframe tbody tr th {\n",
              "        vertical-align: top;\n",
              "    }\n",
              "\n",
              "    .dataframe thead th {\n",
              "        text-align: right;\n",
              "    }\n",
              "</style>\n",
              "<table border=\"1\" class=\"dataframe\">\n",
              "  <thead>\n",
              "    <tr style=\"text-align: right;\">\n",
              "      <th></th>\n",
              "      <th>Country</th>\n",
              "      <th>Year</th>\n",
              "      <th>Age</th>\n",
              "      <th>Death</th>\n",
              "    </tr>\n",
              "  </thead>\n",
              "  <tbody>\n",
              "    <tr>\n",
              "      <th>0</th>\n",
              "      <td>Angola</td>\n",
              "      <td>2017</td>\n",
              "      <td>0-27 days</td>\n",
              "      <td>HIV/AIDS</td>\n",
              "    </tr>\n",
              "    <tr>\n",
              "      <th>1</th>\n",
              "      <td>Angola</td>\n",
              "      <td>2017</td>\n",
              "      <td>0-27 days</td>\n",
              "      <td>Diarrhoeal diseases</td>\n",
              "    </tr>\n",
              "    <tr>\n",
              "      <th>2</th>\n",
              "      <td>Angola</td>\n",
              "      <td>2017</td>\n",
              "      <td>0-27 days</td>\n",
              "      <td>Tetanus</td>\n",
              "    </tr>\n",
              "    <tr>\n",
              "      <th>3</th>\n",
              "      <td>Angola</td>\n",
              "      <td>2017</td>\n",
              "      <td>0-27 days</td>\n",
              "      <td>Measles</td>\n",
              "    </tr>\n",
              "    <tr>\n",
              "      <th>4</th>\n",
              "      <td>Angola</td>\n",
              "      <td>2017</td>\n",
              "      <td>0-27 days</td>\n",
              "      <td>Meningitis/encephalitis</td>\n",
              "    </tr>\n",
              "    <tr>\n",
              "      <th>...</th>\n",
              "      <td>...</td>\n",
              "      <td>...</td>\n",
              "      <td>...</td>\n",
              "      <td>...</td>\n",
              "    </tr>\n",
              "    <tr>\n",
              "      <th>29995</th>\n",
              "      <td>Seychelles</td>\n",
              "      <td>2005</td>\n",
              "      <td>0-27 days</td>\n",
              "      <td>Prematurity</td>\n",
              "    </tr>\n",
              "    <tr>\n",
              "      <th>29996</th>\n",
              "      <td>Seychelles</td>\n",
              "      <td>2005</td>\n",
              "      <td>0-27 days</td>\n",
              "      <td>Birth asphyxia and birth trauma</td>\n",
              "    </tr>\n",
              "    <tr>\n",
              "      <th>29997</th>\n",
              "      <td>Seychelles</td>\n",
              "      <td>2005</td>\n",
              "      <td>0-27 days</td>\n",
              "      <td>Sepsis and other infectious conditions of the ...</td>\n",
              "    </tr>\n",
              "    <tr>\n",
              "      <th>29998</th>\n",
              "      <td>Seychelles</td>\n",
              "      <td>2005</td>\n",
              "      <td>0-27 days</td>\n",
              "      <td>Other communicable, perinatal and nutritional ...</td>\n",
              "    </tr>\n",
              "    <tr>\n",
              "      <th>29999</th>\n",
              "      <td>Seychelles</td>\n",
              "      <td>2005</td>\n",
              "      <td>0-27 days</td>\n",
              "      <td>Congenital anomalies</td>\n",
              "    </tr>\n",
              "  </tbody>\n",
              "</table>\n",
              "<p>30000 rows × 4 columns</p>\n",
              "</div>\n",
              "      <button class=\"colab-df-convert\" onclick=\"convertToInteractive('df-2273ae0f-21bd-4358-a720-003b9e864855')\"\n",
              "              title=\"Convert this dataframe to an interactive table.\"\n",
              "              style=\"display:none;\">\n",
              "        \n",
              "  <svg xmlns=\"http://www.w3.org/2000/svg\" height=\"24px\"viewBox=\"0 0 24 24\"\n",
              "       width=\"24px\">\n",
              "    <path d=\"M0 0h24v24H0V0z\" fill=\"none\"/>\n",
              "    <path d=\"M18.56 5.44l.94 2.06.94-2.06 2.06-.94-2.06-.94-.94-2.06-.94 2.06-2.06.94zm-11 1L8.5 8.5l.94-2.06 2.06-.94-2.06-.94L8.5 2.5l-.94 2.06-2.06.94zm10 10l.94 2.06.94-2.06 2.06-.94-2.06-.94-.94-2.06-.94 2.06-2.06.94z\"/><path d=\"M17.41 7.96l-1.37-1.37c-.4-.4-.92-.59-1.43-.59-.52 0-1.04.2-1.43.59L10.3 9.45l-7.72 7.72c-.78.78-.78 2.05 0 2.83L4 21.41c.39.39.9.59 1.41.59.51 0 1.02-.2 1.41-.59l7.78-7.78 2.81-2.81c.8-.78.8-2.07 0-2.86zM5.41 20L4 18.59l7.72-7.72 1.47 1.35L5.41 20z\"/>\n",
              "  </svg>\n",
              "      </button>\n",
              "      \n",
              "  <style>\n",
              "    .colab-df-container {\n",
              "      display:flex;\n",
              "      flex-wrap:wrap;\n",
              "      gap: 12px;\n",
              "    }\n",
              "\n",
              "    .colab-df-convert {\n",
              "      background-color: #E8F0FE;\n",
              "      border: none;\n",
              "      border-radius: 50%;\n",
              "      cursor: pointer;\n",
              "      display: none;\n",
              "      fill: #1967D2;\n",
              "      height: 32px;\n",
              "      padding: 0 0 0 0;\n",
              "      width: 32px;\n",
              "    }\n",
              "\n",
              "    .colab-df-convert:hover {\n",
              "      background-color: #E2EBFA;\n",
              "      box-shadow: 0px 1px 2px rgba(60, 64, 67, 0.3), 0px 1px 3px 1px rgba(60, 64, 67, 0.15);\n",
              "      fill: #174EA6;\n",
              "    }\n",
              "\n",
              "    [theme=dark] .colab-df-convert {\n",
              "      background-color: #3B4455;\n",
              "      fill: #D2E3FC;\n",
              "    }\n",
              "\n",
              "    [theme=dark] .colab-df-convert:hover {\n",
              "      background-color: #434B5C;\n",
              "      box-shadow: 0px 1px 3px 1px rgba(0, 0, 0, 0.15);\n",
              "      filter: drop-shadow(0px 1px 2px rgba(0, 0, 0, 0.3));\n",
              "      fill: #FFFFFF;\n",
              "    }\n",
              "  </style>\n",
              "\n",
              "      <script>\n",
              "        const buttonEl =\n",
              "          document.querySelector('#df-2273ae0f-21bd-4358-a720-003b9e864855 button.colab-df-convert');\n",
              "        buttonEl.style.display =\n",
              "          google.colab.kernel.accessAllowed ? 'block' : 'none';\n",
              "\n",
              "        async function convertToInteractive(key) {\n",
              "          const element = document.querySelector('#df-2273ae0f-21bd-4358-a720-003b9e864855');\n",
              "          const dataTable =\n",
              "            await google.colab.kernel.invokeFunction('convertToInteractive',\n",
              "                                                     [key], {});\n",
              "          if (!dataTable) return;\n",
              "\n",
              "          const docLinkHtml = 'Like what you see? Visit the ' +\n",
              "            '<a target=\"_blank\" href=https://colab.research.google.com/notebooks/data_table.ipynb>data table notebook</a>'\n",
              "            + ' to learn more about interactive tables.';\n",
              "          element.innerHTML = '';\n",
              "          dataTable['output_type'] = 'display_data';\n",
              "          await google.colab.output.renderOutput(dataTable, element);\n",
              "          const docLink = document.createElement('div');\n",
              "          docLink.innerHTML = docLinkHtml;\n",
              "          element.appendChild(docLink);\n",
              "        }\n",
              "      </script>\n",
              "    </div>\n",
              "  </div>\n",
              "  "
            ]
          },
          "metadata": {},
          "execution_count": 48
        }
      ]
    },
    {
      "cell_type": "code",
      "source": [
        "#check subsets for Country column, no repeats\n",
        "df['Country'].value_counts()"
      ],
      "metadata": {
        "colab": {
          "base_uri": "https://localhost:8080/"
        },
        "id": "jC0Dsc7tTECe",
        "outputId": "0960541d-ff5d-40cd-8d2b-54bd032703e0"
      },
      "execution_count": 49,
      "outputs": [
        {
          "output_type": "execute_result",
          "data": {
            "text/plain": [
              "Angola                              756\n",
              "Burundi                             756\n",
              "Liberia                             756\n",
              "Lesotho                             756\n",
              "Madagascar                          756\n",
              "Mali                                756\n",
              "Mozambique                          756\n",
              "Mauritania                          756\n",
              "Mauritius                           756\n",
              "Malawi                              756\n",
              "Namibia                             756\n",
              "Niger                               756\n",
              "Nigeria                             756\n",
              "Rwanda                              756\n",
              "Senegal                             756\n",
              "Sierra Leone                        756\n",
              "South Sudan                         756\n",
              "Sao Tome and Principe               756\n",
              "Eswatini                            756\n",
              "Kenya                               756\n",
              "Equatorial Guinea                   756\n",
              "Guinea-Bissau                       756\n",
              "Congo                               756\n",
              "Benin                               756\n",
              "Burkina Faso                        756\n",
              "Botswana                            756\n",
              "Central African Republic            756\n",
              "Côte d’Ivoire                       756\n",
              "Cameroon                            756\n",
              "Democratic Republic of the Congo    756\n",
              "Comoros                             756\n",
              "Gambia                              756\n",
              "Cabo Verde                          756\n",
              "Algeria                             756\n",
              "Eritrea                             756\n",
              "Ethiopia                            756\n",
              "Gabon                               756\n",
              "Ghana                               756\n",
              "Guinea                              756\n",
              "Seychelles                          516\n",
              "Name: Country, dtype: int64"
            ]
          },
          "metadata": {},
          "execution_count": 49
        }
      ]
    },
    {
      "cell_type": "code",
      "source": [
        "#check subsets for Year column, no numerical errors\n",
        "df['Year'].value_counts()"
      ],
      "metadata": {
        "colab": {
          "base_uri": "https://localhost:8080/"
        },
        "id": "yYT0tZUgUFpn",
        "outputId": "6908ed8e-d213-4ccf-97c2-bac9d378aca5"
      },
      "execution_count": 50,
      "outputs": [
        {
          "output_type": "execute_result",
          "data": {
            "text/plain": [
              "2017    1680\n",
              "2010    1680\n",
              "2006    1680\n",
              "2007    1680\n",
              "2016    1680\n",
              "2009    1680\n",
              "2008    1680\n",
              "2011    1680\n",
              "2012    1680\n",
              "2013    1680\n",
              "2014    1680\n",
              "2015    1680\n",
              "2005    1650\n",
              "2004    1638\n",
              "2003    1638\n",
              "2002    1638\n",
              "2001    1638\n",
              "2000    1638\n",
              "Name: Year, dtype: int64"
            ]
          },
          "metadata": {},
          "execution_count": 50
        }
      ]
    },
    {
      "cell_type": "code",
      "source": [
        "#check subsets for Death column\n",
        "df['Death'].value_counts()"
      ],
      "metadata": {
        "colab": {
          "base_uri": "https://localhost:8080/"
        },
        "id": "LGhs3v9sUbbY",
        "outputId": "4e1989d0-4352-4321-f894-d3add74735c5"
      },
      "execution_count": 51,
      "outputs": [
        {
          "output_type": "execute_result",
          "data": {
            "text/plain": [
              "HIV/AIDS                                                    2143\n",
              "Diarrhoeal diseases                                         2143\n",
              "Tetanus                                                     2143\n",
              "Measles                                                     2143\n",
              "Meningitis/encephalitis                                     2143\n",
              "Malaria                                                     2143\n",
              "Acute lower respiratory infections                          2143\n",
              "Prematurity                                                 2143\n",
              "Birth asphyxia and birth trauma                             2143\n",
              "Sepsis and other infectious conditions of the newborn       2143\n",
              "Other communicable, perinatal and nutritional conditions    2143\n",
              "Congenital anomalies                                        2143\n",
              "Other noncommunicable diseases                              2142\n",
              "Injuries                                                    2142\n",
              "Name: Death, dtype: int64"
            ]
          },
          "metadata": {},
          "execution_count": 51
        }
      ]
    },
    {
      "cell_type": "code",
      "source": [
        "#check subsets for Age column\n",
        "df['Age'].value_counts()"
      ],
      "metadata": {
        "colab": {
          "base_uri": "https://localhost:8080/"
        },
        "id": "0Z6WN1g5Ur-l",
        "outputId": "c51f24c0-c542-4999-f186-27868ce2c321"
      },
      "execution_count": 52,
      "outputs": [
        {
          "output_type": "execute_result",
          "data": {
            "text/plain": [
              "0-27 days      10008\n",
              "1-59 months     9996\n",
              "0-4 years       9996\n",
              "Name: Age, dtype: int64"
            ]
          },
          "metadata": {},
          "execution_count": 52
        }
      ]
    },
    {
      "cell_type": "code",
      "source": [
        "#I need a better method to list the age category as a dash, -, won't be considered numeric\n",
        "# they all need to be in one type of unit. By months? 27 days is close to 1 month.\n",
        "df['Age'] = df['Age'].replace(['0-27 days'],'1')\n",
        "df['Age'] = df['Age'].replace(['1-59 months'],'59')\n",
        "df['Age'] = df['Age'].replace(['0-4 years'],'48')\n",
        "df['Age'].value_counts()"
      ],
      "metadata": {
        "colab": {
          "base_uri": "https://localhost:8080/"
        },
        "id": "O9nW76dSRydK",
        "outputId": "d546caa5-a556-41ee-8143-840325a8b803"
      },
      "execution_count": 53,
      "outputs": [
        {
          "output_type": "execute_result",
          "data": {
            "text/plain": [
              "1     10008\n",
              "59     9996\n",
              "48     9996\n",
              "Name: Age, dtype: int64"
            ]
          },
          "metadata": {},
          "execution_count": 53
        }
      ]
    },
    {
      "cell_type": "code",
      "source": [
        "#change Age dtype from object to numeric for easier graphing\n",
        "df['Age']= df['Age'].astype(float)"
      ],
      "metadata": {
        "id": "bAfxXLYmN3ds"
      },
      "execution_count": 121,
      "outputs": []
    },
    {
      "cell_type": "markdown",
      "source": [
        "no ordinal columns"
      ],
      "metadata": {
        "id": "Kn0BkAAW2mgp"
      }
    },
    {
      "cell_type": "markdown",
      "source": [
        "**Visualizations**"
      ],
      "metadata": {
        "id": "EBnvF4iuT30J"
      }
    },
    {
      "cell_type": "code",
      "source": [
        "df['Death'].hist()\n",
        "plt.xticks(rotation=90);\n",
        "\n",
        "#histogram of death rates by cause"
      ],
      "metadata": {
        "colab": {
          "base_uri": "https://localhost:8080/",
          "height": 661
        },
        "id": "veUA52cPDiId",
        "outputId": "3f8deb6d-bcd5-49dc-b117-8db8ebe87292"
      },
      "execution_count": 130,
      "outputs": [
        {
          "output_type": "display_data",
          "data": {
            "text/plain": [
              "<Figure size 576x396 with 1 Axes>"
            ],
            "image/png": "[encoded data removed]"
          },
          "metadata": {}
        }
      ]
    },
    {
      "cell_type": "code",
      "source": [
        "sns.boxplot(x = df['Age'], y = df['Year'], width=0.6, palette=\"Blues\", notch=True).set(title='Monthly Ages Based on Year')\n",
        "sns.set(style=\"darkgrid\")"
      ],
      "metadata": {
        "colab": {
          "base_uri": "https://localhost:8080/",
          "height": 301
        },
        "id": "flGbthC36VQn",
        "outputId": "12ae1228-1273-49ed-b04f-0294ba72eab2"
      },
      "execution_count": 74,
      "outputs": [
        {
          "output_type": "display_data",
          "data": {
            "text/plain": [
              "<Figure size 432x288 with 1 Axes>"
            ],
            "image/png": "[encoded data removed]"
          },
          "metadata": {}
        }
      ]
    },
    {
      "cell_type": "markdown",
      "source": [
        "The above boxplot shows that there was a very close to even distribution of ages that were collected from year 2000 till 2017."
      ],
      "metadata": {
        "id": "a03Ip2TPB6zN"
      }
    }
  ]
}